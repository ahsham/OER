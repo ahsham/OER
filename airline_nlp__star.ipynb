{
  "nbformat": 4,
  "nbformat_minor": 0,
  "metadata": {
    "colab": {
      "provenance": []
    },
    "kernelspec": {
      "name": "python3",
      "display_name": "Python 3"
    },
    "language_info": {
      "name": "python"
    }
  },
  "cells": [
    {
      "cell_type": "code",
      "source": [
        "from google.colab import drive\n",
        "drive.mount('/content/drive')"
      ],
      "metadata": {
        "colab": {
          "base_uri": "https://localhost:8080/"
        },
        "id": "TzURJvoO6-vg",
        "outputId": "c8ebfaf6-20d1-45c0-f171-6e5274038a78"
      },
      "execution_count": null,
      "outputs": [
        {
          "output_type": "stream",
          "name": "stdout",
          "text": [
            "Mounted at /content/drive\n"
          ]
        }
      ]
    },
    {
      "cell_type": "code",
      "execution_count": null,
      "metadata": {
        "id": "qOO-bjYh6v_t"
      },
      "outputs": [],
      "source": [
        "filename = '/content/drive/MyDrive/Airline Data collection/turkish_airlines.csv'"
      ]
    },
    {
      "cell_type": "code",
      "source": [
        "import csv\n",
        "import pandas as pd\n",
        "import numpy as np\n",
        "import matplotlib.pyplot as plt"
      ],
      "metadata": {
        "id": "YS9SFf_U7TqX"
      },
      "execution_count": null,
      "outputs": []
    },
    {
      "cell_type": "code",
      "source": [
        "with open(filename) as f:\n",
        "  reader = csv.reader(f)\n",
        "  header_row = next(reader)\n",
        "  stars= []\n",
        "  pros = []\n",
        "  cons = []\n",
        "  for row in reader:\n",
        "    stars.append(row[5])\n",
        "    pros.append(row[6])\n",
        "    cons.append(row[7])"
      ],
      "metadata": {
        "id": "OHb7SYYZ7aux"
      },
      "execution_count": null,
      "outputs": []
    },
    {
      "cell_type": "code",
      "source": [
        "s = []\n",
        "for star in stars:\n",
        "  print(star)\n",
        "  s = star.split(',')\n",
        "new_list =[]\n",
        "flat_list = [x for xs in s for x in xs]\n",
        "# flat_list\n",
        "for i in flat_list:\n",
        "  try:\n",
        "    new_list.append(int(i))\n",
        "  except ValueError:\n",
        "        continue\n",
        "n = []\n",
        "for value in range(0,len(new_list)):\n",
        "\n",
        "    if new_list[value] != 0:\n",
        "        n.append(new_list[value])\n",
        "\n"
      ],
      "metadata": {
        "colab": {
          "base_uri": "https://localhost:8080/"
        },
        "id": "-aMuQOWV812r",
        "outputId": "62d6548c-095b-4543-c4c9-b6f4bd004485"
      },
      "execution_count": null,
      "outputs": [
        {
          "output_type": "stream",
          "name": "stdout",
          "text": [
            "[[5.0, 4.0, 2.0, 5.0, 3.0, 1.0, 1.0, 5.0, 1.0, 3.0], [5.0, 3.0, 4.0, 3.0, 1.0, 4.0, 2.0, 4.0, 5.0, 4.0], [5.0, 5.0, 1.0, 4.0, 5.0, 5.0, 5.0, 5.0, 4.0, 5.0], [5.0, 5.0, 1.0, 3.0, 4.0, 5.0, 1.0, 5.0, 5.0, 5.0], [3.0, 5.0, 5.0, 5.0, 4.0, 4.0, 4.0, 5.0, 5.0, 4.0], [3.0, 5.0, 2.0, 5.0, 4.0, 5.0, 5.0, 4.0, 5.0, 3.0], [2.0, 2.0, 4.0, 4.0, 5.0, 4.0, 3.0, 4.0, 2.0, 5.0], [4.0, 5.0, 2.0, 5.0, 5.0, 5.0, 4.0, 3.0, 2.0, 5.0], [2.0, 2.0, 4.0, 2.0, 5.0, 5.0, 4.0, 1.0, 4.0, 4.0], [4.0, 1.0, 3.0, 2.0, 3.0, 3.0, 5.0, 4.0, 5.0, 4.0], [5.0, 3.0, 5.0, 3.0, 5.0, 3.0, 4.0, 4.0, 4.0, 4.0], [3.0, 5.0, 5.0, 5.0, 5.0, 3.0, 5.0, 4.0, 4.0, 5.0], [3.0, 5.0, 3.0, 4.0, 3.0, 5.0, 2.0, 4.0, 5.0, 5.0], [5.0, 5.0, 5.0, 4.0, 4.0, 1.0, 5.0, 1.0, 5.0, 4.0], [5.0, 2.0, 4.0, 5.0, 5.0, 3.0, 3.0, 5.0, 5.0, 4.0], [1.0, 3.0, 5.0, 5.0, 5.0, 3.0, 2.0, 4.0, 5.0, 3.0], [5.0, 1.0, 5.0, 4.0, 4.0, 1.0, 4.0, 1.0, 5.0, 5.0], [5.0, 1.0, 2.0, 4.0, 5.0, 4.0, 4.0, 5.0, 5.0, 1.0], [4.0, 5.0, 5.0, 5.0, 4.0, 4.0, 4.0, 1.0, 5.0, 5.0], [1.0, 4.0, 5.0, 4.0, 2.0, 5.0, 2.0, 4.0, 4.0, 1.0], [1.0, 5.0, 4.0, 3.0, 5.0, 5.0, 5.0, 4.0, 1.0, 5.0], [5.0, 5.0, 3.0, 4.0, 5.0, 4.0, 4.0, 3.0, 4.0, 4.0], [3.0, 5.0, 4.0, 3.0, 4.0, 5.0, 5.0, 4.0, 4.0, 5.0], [1.0, 4.0, 4.0, 4.0, 3.0, 4.0, 3.0, 3.0, 3.0, 3.0], [4.0, 3.0, 3.0, 3.0, 4.0, 5.0, 4.0, 1.0, 3.0, 3.0], [2.0, 2.0, 5.0, 4.0, 3.0, 5.0, 4.0, 3.0, 4.0, 4.0], [3.0, 5.0, 3.0, 2.0, 4.0, 4.0, 5.0, 5.0, 1.0, 5.0], [2.0, 3.0, 3.0, 2.0, 3.0, 5.0, 2.0, 5.0, 3.0, 3.0], [5.0, 5.0, 3.0, 5.0, 1.0, 2.0, 1.0, 2.0, 2.0, 4.0], [2.0, 4.0, 3.0, 3.0, 4.0, 4.0, 3.0, 2.0, 3.0, 3.0], [3.0, 4.0, 4.0, 5.0, 3.0, 2.0, 4.0, 4.0, 2.0, 1.0], [3.0, 4.0, 5.0, 5.0, 5.0, 5.0, 5.0, 5.0, 5.0, 4.0], [4.0, 3.0, 3.0, 3.0, 3.0, 2.0, 4.0, 5.0, 5.0, 4.0], [5.0, 4.0, 4.0, 2.0, 4.0, 5.0, 4.0, 4.0, 5.0, 5.0], [4.0, 5.0, 4.0, 4.0, 4.0, 4.0, 4.0, 4.0, 5.0, 4.0], [4.0, 3.0, 3.0, 3.0, 4.0, 4.0, 5.0, 4.0, 4.0, 2.0], [4.0, 4.0, 4.0, 4.0, 3.0, 3.0, 2.0, 3.0, 3.0, 3.0], [2.0, 2.0, 3.0, 3.0, 3.0, 3.0, 3.0, 3.0, 2.0, 3.0], [4.0, 3.0, 3.0, 5.0, 4.0, 3.0, 5.0, 3.0, 4.0, 2.0], [3.0, 2.0, 3.0, 3.0, 3.0, 3.0, 3.0, 2.0, 3.0, 2.0], [3.0, 2.0, 3.0, 3.0, 1.0, 3.0, 3.0, 2.0, 3.0, 3.0], [5.0, 4.0, 3.0, 1.0, 3.0, 3.0, 2.0, 3.0, 3.0]]\n"
          ]
        }
      ]
    },
    {
      "cell_type": "code",
      "source": [
        "count = [0,0,0,0,0]\n",
        "for i in n:\n",
        "  # print(i)\n",
        "  for s in range(1,6):\n",
        "    # print(s)\n",
        "    if i == s:\n",
        "      count[s-1] += 1\n",
        "      \n",
        "turkish_airlines_c = count\n",
        "print(count)\n",
        "\n",
        "x = np.array([\"1\", \"2\", \"3\", \"4\",\"5\"])\n",
        "y = np.asarray(count)\n",
        "\n",
        "line = plt.bar(x,y)\n",
        "plt.title(\"Turkish Airlines\")\n",
        "plt.xlabel('Stars Rating')\n",
        "plt.ylabel(\"Frequency\")\n",
        "\n",
        "for i in range(len(y)):\n",
        "    plt.annotate(str(y[i]), xy=(x[i],y[i]), ha='center', va='bottom')\n",
        "\n",
        "plt.show()"
      ],
      "metadata": {
        "colab": {
          "base_uri": "https://localhost:8080/",
          "height": 312
        },
        "id": "zYUit2ZwIW74",
        "outputId": "01908c64-3b06-4f97-b9c8-ab6cd1271145"
      },
      "execution_count": null,
      "outputs": [
        {
          "output_type": "stream",
          "name": "stdout",
          "text": [
            "[30, 45, 101, 118, 125]\n"
          ]
        },
        {
          "output_type": "display_data",
          "data": {
            "text/plain": [
              "<Figure size 432x288 with 1 Axes>"
            ],
            "image/png": "[encoded data removed]"
          },
          "metadata": {
            "needs_background": "light"
          }
        }
      ]
    },
    {
      "cell_type": "code",
      "source": [
        "filename = '/content/drive/MyDrive/Airline Data collection/swissinter_airlines.csv'\n",
        "with open(filename) as f:\n",
        "  reader = csv.reader(f)\n",
        "  header_row = next(reader)\n",
        "  stars= []\n",
        "  pros = []\n",
        "  cons = []\n",
        "  for row in reader:\n",
        "    stars.append(row[5])\n",
        "    pros.append(row[6])\n",
        "    cons.append(row[7])\n",
        "\n",
        "s = []\n",
        "for star in stars:\n",
        "  print(star)\n",
        "  s = star.split(',')\n",
        "new_list =[]\n",
        "flat_list = [x for xs in s for x in xs]\n",
        "# flat_list\n",
        "for i in flat_list:\n",
        "  try:\n",
        "    new_list.append(int(i))\n",
        "  except ValueError:\n",
        "        continue\n",
        "n = []\n",
        "for value in range(0,len(new_list)):\n",
        "\n",
        "    if new_list[value] != 0:\n",
        "        n.append(new_list[value])\n",
        "\n",
        "count = [0,0,0,0,0]\n",
        "for i in n:\n",
        "  # print(i)\n",
        "  for s in range(1,6):\n",
        "    # print(s)\n",
        "    if i == s:\n",
        "      count[s-1] += 1\n",
        "      \n",
        "swissinter_airlines_c = count\n",
        "print(count)\n",
        "\n",
        "x = np.array([\"1\", \"2\", \"3\", \"4\",\"5\"])\n",
        "y = np.asarray(count)\n",
        "\n",
        "line = plt.bar(x,y)\n",
        "plt.title(\"Swiss International Air Lines\")\n",
        "plt.xlabel('Stars Rating')\n",
        "plt.ylabel(\"Frequency\")\n",
        "\n",
        "for i in range(len(y)):\n",
        "    plt.annotate(str(y[i]), xy=(x[i],y[i]), ha='center', va='bottom')\n",
        "\n",
        "plt.show()"
      ],
      "metadata": {
        "colab": {
          "base_uri": "https://localhost:8080/",
          "height": 350
        },
        "id": "jfHtQHBiO04_",
        "outputId": "7eecde45-4ce6-48f9-d74c-96216981d4e8"
      },
      "execution_count": null,
      "outputs": [
        {
          "output_type": "stream",
          "name": "stdout",
          "text": [
            "[[5.0, 4.0, 4.0, 4.0, 5.0, 4.0, 5.0, 4.0, 5.0, 4.0], [4.0, 5.0, 5.0, 3.0, 2.0, 2.0, 4.0, 3.0, 4.0, 4.0], [4.0, 4.0, 5.0, 5.0, 4.0, 4.0, 3.0, 1.0, 4.0, 5.0], [2.0, 4.0, 4.0, 3.0, 4.0, 2.0, 5.0, 4.0, 3.0, 4.0], [1.0, 5.0, 4.0, 4.0, 5.0, 4.0, 2.0, 5.0, 4.0, 5.0], [4.0, 3.0, 4.0, 5.0, 5.0, 5.0, 5.0, 5.0, 5.0, 4.0], [4.0, 4.0, 5.0, 2.0, 4.0, 4.0, 5.0, 4.0, 5.0, 4.0], [4.0, 3.0, 5.0, 4.0, 5.0, 3.0, 5.0, 5.0, 3.0, 3.0], [4.0, 4.0, 4.0, 5.0, 5.0, 4.0, 2.0, 4.0, 4.0, 4.0], [4.0, 4.0, 5.0, 5.0, 4.0, 3.0, 5.0, 3.0, 4.0, 4.0], [5.0, 4.0, 4.0, 4.0, 4.0, 5.0, 4.0, 5.0, 4.0, 3.0], [3.0, 2.0, 2.0, 2.0, 2.0, 2.0, 3.0, 3.0, 3.0, 3.0], [3.0, 3.0, 2.0]]\n",
            "[2, 13, 20, 53, 35]\n"
          ]
        },
        {
          "output_type": "display_data",
          "data": {
            "text/plain": [
              "<Figure size 432x288 with 1 Axes>"
            ],
            "image/png": "[encoded data removed]"
          },
          "metadata": {
            "needs_background": "light"
          }
        }
      ]
    },
    {
      "cell_type": "code",
      "source": [
        "filename = '/content/drive/MyDrive/Airline Data collection/singapore_airlines.csv'\n",
        "csv.field_size_limit(100000000)\n",
        "with open(filename) as f:\n",
        "  reader = csv.reader(f)\n",
        "  header_row = next(reader)\n",
        "  stars= []\n",
        "  pros = []\n",
        "  cons = []\n",
        "  for row in reader:\n",
        "    stars.append(row[5])\n",
        "    pros.append(row[6])\n",
        "    cons.append(row[7])\n",
        "\n",
        "s = []\n",
        "for star in stars:\n",
        "  print(star)\n",
        "  s = star.split(',')\n",
        "new_list =[]\n",
        "flat_list = [x for xs in s for x in xs]\n",
        "# flat_list\n",
        "for i in flat_list:\n",
        "  try:\n",
        "    new_list.append(int(i))\n",
        "  except ValueError:\n",
        "        continue\n",
        "n = []\n",
        "for value in range(0,len(new_list)):\n",
        "\n",
        "    if new_list[value] != 0:\n",
        "        n.append(new_list[value])\n",
        "\n",
        "count = [0,0,0,0,0]\n",
        "for i in n:\n",
        "  # print(i)\n",
        "  for s in range(1,6):\n",
        "    # print(s)\n",
        "    if i == s:\n",
        "      count[s-1] += 1\n",
        "      \n",
        "swissinter_airlines_c = count\n",
        "print(count)\n",
        "\n",
        "x = np.array([\"1\", \"2\", \"3\", \"4\",\"5\"])\n",
        "y = np.asarray(count)\n",
        "\n",
        "line = plt.bar(x,y)\n",
        "plt.title(\"Singapore Airlines\")\n",
        "plt.xlabel('Stars Rating')\n",
        "plt.ylabel(\"Frequency\")\n",
        "\n",
        "for i in range(len(y)):\n",
        "    plt.annotate(str(y[i]), xy=(x[i],y[i]), ha='center', va='bottom')\n",
        "\n",
        "plt.show()"
      ],
      "metadata": {
        "colab": {
          "base_uri": "https://localhost:8080/",
          "height": 350
        },
        "id": "oiZ58ttMRsYb",
        "outputId": "29142a24-4307-463b-fc96-95090f09ab5f"
      },
      "execution_count": null,
      "outputs": [
        {
          "output_type": "stream",
          "name": "stdout",
          "text": [
            "[[5.0, 2.0, 4.0, 4.0, 3.0, 4.0, 5.0, 5.0, 5.0, 5.0], [5.0, 1.0, 5.0, 4.0, 4.0, 4.0, 2.0, 5.0, 3.0, 5.0], [3.0, 3.0, 1.0, 5.0, 1.0, 3.0, 4.0, 5.0, 3.0, 4.0], [3.0, 1.0, 5.0, 1.0, 5.0, 5.0, 4.0, 4.0, 4.0, 3.0], [2.0, 3.0, 2.0, 4.0, 5.0, 3.0, 1.0, 2.0, 5.0, 5.0], [5.0, 3.0, 4.0, 5.0, 4.0, 4.0, 3.0, 5.0, 4.0, 5.0], [4.0, 5.0, 4.0, 5.0, 5.0, 3.0, 4.0, 5.0, 5.0, 4.0], [4.0, 4.0, 4.0, 4.0, 4.0, 3.0, 1.0, 4.0, 4.0, 2.0], [3.0, 4.0, 3.0, 4.0, 5.0, 3.0, 3.0, 2.0, 5.0, 3.0], [5.0, 5.0, 4.0, 4.0, 5.0, 4.0, 5.0, 5.0, 4.0, 3.0], [5.0, 3.0, 5.0, 4.0, 5.0, 2.0, 5.0, 4.0, 4.0, 4.0], [5.0, 5.0, 3.0, 3.0, 4.0, 3.0, 4.0, 4.0, 5.0, 3.0], [4.0, 3.0, 5.0, 1.0, 4.0, 3.0, 3.0, 5.0, 4.0, 5.0], [5.0, 5.0, 5.0, 4.0, 2.0, 5.0, 5.0, 4.0, 3.0, 4.0], [4.0, 4.0, 4.0, 4.0, 5.0, 4.0, 3.0, 3.0, 3.0, 4.0], [5.0, 5.0, 3.0, 5.0, 4.0, 4.0, 4.0, 5.0, 4.0, 5.0], [5.0, 5.0, 1.0, 5.0, 5.0, 2.0, 4.0, 4.0, 4.0, 3.0], [5.0, 5.0, 5.0, 2.0, 5.0, 3.0, 5.0, 4.0, 3.0, 4.0], [4.0, 4.0, 3.0, 5.0, 2.0, 4.0, 2.0, 4.0, 3.0, 5.0], [3.0, 3.0, 5.0, 3.0, 4.0, 4.0, 4.0, 3.0, 4.0, 4.0], [4.0, 1.0, 3.0, 3.0, 1.0, 4.0, 5.0, 4.0, 4.0, 5.0], [4.0, 4.0, 5.0, 5.0, 5.0, 1.0, 3.0, 2.0, 4.0, 4.0], [5.0, 5.0, 3.0, 3.0, 4.0, 5.0, 5.0, 4.0, 5.0, 4.0], [3.0, 4.0, 5.0, 4.0, 3.0, 4.0, 5.0, 3.0, 5.0, 3.0], [5.0, 5.0, 4.0, 4.0, 3.0, 5.0, 5.0, 5.0, 5.0, 3.0], [5.0, 3.0, 4.0, 5.0, 4.0, 4.0, 3.0, 5.0, 5.0, 5.0], [4.0, 4.0, 4.0, 5.0, 2.0, 3.0, 4.0, 5.0, 5.0, 2.0], [4.0, 4.0, 5.0, 5.0, 3.0, 4.0, 4.0, 5.0, 4.0, 1.0], [4.0, 3.0, 5.0, 5.0, 5.0, 4.0, 3.0, 5.0, 4.0, 4.0], [5.0, 4.0, 2.0, 5.0, 3.0, 5.0, 1.0, 3.0, 3.0, 4.0], [2.0, 4.0, 4.0, 4.0, 3.0, 3.0, 5.0, 5.0, 3.0, 3.0], [4.0, 4.0, 5.0, 3.0, 3.0, 4.0, 4.0, 5.0, 3.0, 4.0], [4.0, 5.0, 5.0, 5.0, 5.0, 5.0, 3.0, 4.0, 5.0, 4.0], [5.0, 5.0, 1.0, 4.0, 5.0, 5.0, 5.0, 4.0, 1.0, 5.0], [5.0, 4.0, 4.0, 4.0, 5.0, 5.0, 4.0, 5.0, 5.0, 5.0], [5.0, 5.0, 5.0, 5.0, 5.0, 5.0, 4.0, 3.0, 3.0, 2.0], [4.0, 5.0, 5.0, 5.0, 3.0, 4.0, 4.0, 3.0, 2.0, 3.0], [4.0, 3.0, 5.0, 5.0, 3.0, 5.0, 5.0, 4.0, 5.0, 4.0], [4.0, 4.0, 3.0, 4.0, 3.0, 4.0, 4.0, 5.0, 5.0, 4.0], [5.0, 4.0, 3.0, 4.0, 2.0, 5.0, 3.0, 3.0, 2.0, 3.0], [4.0, 5.0, 3.0, 3.0, 5.0, 5.0, 3.0, 1.0, 4.0, 4.0], [4.0, 3.0, 5.0, 5.0, 5.0, 4.0, 1.0, 4.0, 4.0, 4.0], [5.0, 4.0, 3.0, 4.0, 2.0, 4.0, 4.0, 4.0, 2.0, 5.0], [3.0, 4.0, 2.0, 4.0, 5.0, 1.0, 3.0, 5.0, 5.0, 5.0], [5.0, 2.0, 5.0, 3.0, 5.0, 5.0, 5.0, 4.0, 5.0, 4.0], [4.0, 5.0, 4.0, 5.0, 4.0, 4.0, 2.0, 1.0, 4.0, 5.0], [4.0, 4.0, 2.0, 3.0, 3.0, 4.0, 5.0, 4.0, 4.0, 4.0], [5.0, 4.0, 5.0, 4.0, 3.0, 3.0, 3.0, 4.0, 4.0, 4.0], [4.0, 2.0, 4.0, 4.0, 2.0, 5.0, 5.0, 4.0, 5.0, 4.0], [5.0, 5.0, 5.0, 5.0, 4.0, 4.0, 3.0, 3.0, 5.0, 5.0], [4.0, 3.0, 5.0, 4.0, 1.0, 5.0, 5.0, 3.0, 3.0, 4.0], [4.0, 5.0, 5.0, 5.0, 5.0, 5.0, 4.0, 1.0, 2.0, 5.0], [3.0, 3.0, 4.0, 3.0, 5.0, 5.0, 5.0, 5.0, 2.0, 4.0], [1.0, 5.0, 5.0, 5.0, 3.0, 3.0, 5.0, 4.0, 4.0, 5.0], [4.0, 3.0, 4.0, 4.0, 5.0, 5.0, 4.0, 5.0, 4.0, 5.0], [4.0, 1.0, 4.0, 2.0, 2.0, 4.0, 4.0, 5.0, 1.0, 4.0], [5.0, 5.0, 3.0, 5.0, 2.0, 5.0, 5.0, 4.0, 5.0, 4.0], [1.0, 4.0, 4.0, 5.0, 5.0, 3.0, 5.0, 5.0, 5.0, 5.0], [4.0, 5.0, 5.0, 4.0, 5.0, 5.0, 5.0, 4.0, 4.0, 3.0], [4.0, 5.0, 5.0, 5.0, 5.0, 4.0, 4.0, 5.0, 3.0, 4.0], [4.0, 4.0, 5.0, 4.0, 5.0, 5.0, 5.0, 5.0, 5.0, 2.0], [4.0, 4.0, 3.0, 4.0, 5.0, 4.0, 3.0, 4.0, 5.0, 4.0], [4.0, 3.0, 3.0, 5.0, 4.0, 4.0, 3.0, 5.0, 5.0, 5.0], [3.0, 5.0, 4.0, 4.0, 3.0, 4.0, 5.0, 5.0, 3.0, 5.0], [4.0, 5.0, 4.0, 4.0, 4.0, 5.0, 5.0, 4.0, 3.0, 5.0], [4.0, 4.0, 3.0, 5.0, 4.0, 4.0, 5.0, 5.0, 5.0, 3.0], [4.0, 4.0, 4.0, 5.0, 2.0, 3.0, 4.0, 3.0, 4.0, 2.0], [5.0, 5.0, 3.0, 5.0, 4.0, 3.0, 5.0, 5.0, 4.0, 1.0], [5.0, 4.0, 3.0, 2.0, 3.0, 3.0, 5.0, 5.0, 5.0, 5.0], [5.0, 3.0, 4.0, 3.0, 5.0, 5.0, 4.0, 4.0, 5.0, 5.0], [5.0, 4.0, 5.0, 3.0, 3.0, 5.0, 3.0, 3.0, 4.0, 4.0], [4.0, 5.0, 5.0, 3.0, 5.0, 4.0, 4.0, 5.0, 4.0, 4.0], [3.0, 3.0, 4.0, 5.0, 5.0, 5.0, 5.0, 5.0, 5.0, 4.0], [5.0, 3.0, 3.0, 3.0, 5.0, 5.0, 5.0, 5.0, 2.0, 5.0], [4.0, 4.0, 5.0, 5.0, 3.0, 5.0, 5.0, 4.0, 5.0, 5.0], [5.0, 3.0, 5.0, 5.0, 4.0, 4.0, 5.0, 5.0, 2.0, 4.0], [5.0, 4.0, 4.0, 5.0, 5.0, 4.0, 5.0, 5.0, 3.0, 5.0], [3.0, 3.0, 5.0, 3.0, 5.0, 3.0, 4.0, 3.0, 4.0, 3.0], [3.0, 2.0, 3.0, 5.0, 5.0, 5.0, 3.0, 4.0, 5.0, 5.0], [5.0, 4.0, 5.0, 4.0, 4.0, 4.0, 4.0, 5.0, 3.0, 4.0], [4.0, 4.0, 5.0, 2.0, 5.0, 5.0, 5.0, 5.0, 4.0, 4.0], [2.0, 5.0, 3.0, 3.0, 4.0, 5.0, 5.0, 4.0, 4.0, 5.0], [3.0, 2.0, 3.0, 5.0, 4.0, 4.0, 4.0, 2.0, 5.0, 5.0], [5.0, 5.0, 4.0, 5.0, 5.0, 4.0, 4.0, 5.0, 5.0, 5.0], [3.0, 4.0, 5.0, 4.0, 4.0, 4.0, 5.0, 4.0, 5.0, 4.0], [5.0, 5.0, 5.0, 4.0, 3.0, 5.0, 3.0, 5.0, 3.0, 5.0], [5.0, 4.0, 4.0, 4.0, 5.0, 5.0, 2.0, 4.0, 5.0, 5.0], [3.0, 3.0, 5.0, 3.0, 5.0, 4.0, 4.0, 5.0, 5.0, 5.0], [5.0, 5.0, 4.0, 3.0, 3.0, 5.0, 4.0, 5.0, 4.0, 5.0], [4.0, 4.0, 5.0, 3.0, 5.0, 5.0, 4.0, 2.0, 2.0, 4.0], [5.0, 5.0, 3.0, 5.0, 5.0, 5.0, 5.0, 5.0, 4.0, 4.0], [4.0, 5.0, 5.0, 5.0, 2.0, 4.0, 4.0, 5.0, 5.0, 5.0], [4.0, 4.0, 5.0, 4.0, 5.0, 5.0, 4.0, 4.0, 5.0, 5.0], [3.0, 5.0, 5.0, 5.0, 5.0, 4.0, 3.0, 3.0, 5.0, 5.0], [3.0, 2.0, 5.0, 5.0, 5.0, 5.0, 5.0, 5.0, 5.0, 4.0], [4.0, 5.0, 5.0, 5.0, 4.0, 5.0, 4.0, 4.0, 5.0, 5.0], [3.0, 5.0, 4.0, 5.0, 4.0, 4.0, 5.0, 5.0, 4.0, 4.0], [4.0, 3.0, 3.0, 2.0, 3.0, 5.0, 4.0, 5.0, 5.0, 3.0], [5.0, 4.0, 5.0, 2.0, 5.0, 5.0, 5.0, 5.0, 5.0, 5.0], [5.0, 5.0, 4.0, 4.0, 5.0, 4.0, 4.0, 5.0, 5.0, 5.0], [4.0, 4.0, 5.0, 4.0, 5.0, 5.0, 5.0, 5.0, 5.0, 1.0], [4.0, 5.0, 5.0, 5.0, 5.0, 4.0, 5.0, 3.0, 5.0, 3.0], [5.0, 4.0, 3.0, 5.0, 5.0, 5.0, 5.0, 4.0, 4.0, 4.0], [4.0, 5.0, 5.0, 5.0, 4.0, 3.0, 4.0, 4.0, 5.0, 5.0], [4.0, 3.0, 3.0, 5.0, 5.0, 5.0, 4.0, 5.0, 5.0, 5.0], [5.0, 5.0, 4.0, 4.0, 5.0, 4.0, 5.0, 5.0, 4.0, 5.0], [5.0, 5.0, 4.0, 5.0, 4.0, 3.0, 5.0, 5.0, 5.0, 4.0], [4.0, 4.0, 5.0, 4.0, 4.0, 4.0, 3.0, 1.0, 5.0, 4.0], [4.0, 5.0, 4.0, 5.0, 5.0, 5.0, 3.0, 5.0, 4.0, 3.0], [4.0, 4.0, 5.0, 4.0, 5.0, 4.0, 2.0, 4.0, 3.0, 5.0], [4.0, 5.0, 5.0, 4.0, 4.0, 5.0, 5.0, 4.0, 5.0, 5.0], [2.0, 5.0, 4.0, 4.0, 5.0, 5.0, 5.0, 4.0, 4.0, 5.0], [5.0, 4.0, 4.0, 5.0, 4.0, 4.0, 4.0, 5.0, 4.0, 1.0], [4.0, 3.0, 5.0, 2.0, 5.0, 4.0, 5.0, 5.0, 5.0, 4.0], [5.0, 5.0, 5.0, 5.0, 3.0, 5.0, 3.0, 2.0, 4.0, 3.0], [4.0, 3.0, 3.0, 5.0, 4.0, 5.0, 1.0, 5.0, 5.0, 4.0], [4.0, 5.0, 5.0, 5.0, 4.0, 3.0, 1.0, 4.0, 3.0, 4.0], [3.0, 5.0, 5.0, 4.0, 5.0, 4.0, 5.0, 5.0, 5.0, 1.0], [5.0, 4.0, 4.0, 5.0, 4.0, 4.0, 4.0, 4.0, 5.0, 5.0], [5.0, 5.0, 3.0, 3.0, 5.0, 3.0, 5.0, 5.0, 5.0, 4.0], [5.0, 5.0, 5.0, 4.0, 5.0, 1.0, 3.0, 3.0, 4.0, 4.0], [5.0, 5.0, 1.0, 4.0, 4.0, 4.0, 4.0, 5.0, 3.0, 2.0], [4.0, 4.0, 4.0, 4.0, 5.0, 5.0, 4.0, 4.0, 5.0, 2.0], [3.0, 5.0, 4.0, 5.0, 4.0, 4.0, 3.0, 5.0, 3.0, 3.0], [2.0, 4.0, 4.0, 4.0, 5.0, 3.0, 3.0, 2.0, 2.0, 5.0], [4.0, 3.0, 3.0, 3.0, 3.0, 3.0, 3.0, 3.0, 1.0, 4.0], [4.0, 4.0, 4.0, 4.0, 4.0, 4.0, 4.0, 4.0, 4.0, 5.0], [2.0, 2.0, 2.0, 1.0, 4.0, 2.0, 5.0, 3.0, 3.0, 1.0], [5.0, 3.0, 3.0, 4.0, 3.0, 5.0, 4.0, 5.0, 4.0, 2.0], [5.0, 3.0, 5.0, 1.0, 5.0, 4.0, 4.0, 5.0, 4.0, 3.0], [3.0, 4.0, 4.0, 4.0, 4.0, 5.0, 4.0, 5.0, 3.0, 5.0], [4.0, 4.0, 4.0, 4.0, 4.0, 5.0, 3.0, 3.0, 3.0, 4.0], [4.0, 4.0, 4.0, 5.0, 4.0, 5.0, 4.0, 3.0, 3.0, 4.0], [4.0, 4.0, 4.0, 5.0, 4.0, 4.0, 4.0, 5.0, 4.0, 4.0], [5.0, 4.0, 4.0, 4.0, 4.0, 4.0, 5.0, 3.0, 4.0, 5.0], [4.0, 4.0, 4.0, 4.0, 4.0, 4.0, 4.0, 4.0, 4.0, 4.0], [3.0, 4.0, 1.0, 4.0, 3.0, 5.0, 5.0, 4.0, 5.0, 3.0], [4.0, 5.0, 4.0, 4.0, 4.0, 3.0, 3.0, 4.0, 4.0, 1.0], [5.0, 4.0, 4.0, 3.0, 4.0, 4.0, 4.0, 4.0, 4.0, 5.0], [2.0, 4.0, 1.0, 5.0, 4.0, 4.0, 5.0, 5.0, 4.0, 4.0], [4.0, 2.0, 3.0, 4.0, 4.0, 3.0, 4.0, 4.0, 1.0, 3.0], [5.0, 5.0, 5.0, 4.0, 4.0, 3.0, 4.0, 4.0, 5.0, 4.0], [4.0, 4.0, 4.0, 4.0, 4.0, 4.0, 5.0, 5.0, 4.0, 4.0], [4.0, 4.0, 3.0, 5.0, 3.0, 3.0, 4.0, 4.0, 5.0, 5.0], [3.0, 4.0, 2.0, 5.0, 2.0, 5.0, 3.0, 4.0, 4.0, 4.0], [1.0, 4.0, 4.0, 4.0, 4.0, 3.0, 4.0, 3.0, 5.0, 5.0], [4.0, 5.0, 2.0, 4.0, 4.0, 4.0, 4.0, 5.0, 5.0, 3.0], [3.0, 4.0, 4.0, 2.0, 5.0, 5.0, 3.0, 2.0, 3.0, 3.0], [5.0, 5.0, 4.0, 5.0, 4.0, 5.0, 3.0, 3.0, 4.0, 4.0], [3.0, 5.0, 5.0, 3.0, 4.0, 3.0, 3.0, 4.0, 4.0, 4.0], [5.0, 1.0, 5.0, 5.0, 4.0, 5.0, 4.0, 4.0, 4.0, 5.0], [4.0, 3.0, 4.0, 4.0, 4.0, 3.0, 3.0, 4.0, 4.0, 5.0], [3.0, 4.0, 4.0, 4.0, 4.0, 4.0, 5.0, 4.0, 5.0, 4.0], [4.0, 4.0, 3.0, 3.0, 4.0, 3.0, 4.0, 4.0, 3.0, 4.0], [3.0, 5.0, 3.0, 4.0, 4.0, 4.0, 4.0, 4.0, 2.0, 4.0], [5.0, 1.0, 4.0, 4.0, 4.0, 4.0, 4.0, 4.0, 1.0, 2.0], [4.0, 4.0, 3.0, 3.0, 3.0, 4.0, 3.0, 3.0, 3.0, 4.0], [2.0, 3.0, 3.0, 3.0, 3.0, 3.0, 3.0, 2.0, 3.0, 3.0], [4.0, 4.0, 4.0, 2.0, 3.0, 4.0, 3.0, 3.0, 3.0, 4.0], [5.0, 4.0, 4.0, 3.0, 3.0, 1.0, 3.0, 2.0, 4.0, 1.0], [1.0, 3.0, 3.0, 3.0, 3.0, 3.0, 3.0, 3.0, 3.0, 3.0], [1.0, 4.0, 3.0, 3.0, 3.0, 1.0, 5.0, 3.0, 3.0, 4.0], [4.0, 5.0, 3.0, 4.0, 5.0, 5.0, 3.0, 4.0, 4.0, 4.0], [3.0, 3.0, 3.0, 3.0, 3.0, 3.0, 3.0, 3.0, 3.0, 3.0], [2.0, 4.0, 3.0, 2.0, 3.0, 2.0, 4.0, 3.0, 2.0, 5.0], [3.0, 3.0, 2.0, 3.0, 3.0, 3.0, 3.0, 3.0, 3.0, 2.0], [3.0, 2.0, 2.0, 3.0, 3.0, 3.0, 3.0, 2.0, 1.0, 1.0], [2.0, 4.0, 3.0, 1.0, 4.0, 2.0, 2.0]]\n",
            "[55, 92, 334, 604, 592]\n"
          ]
        },
        {
          "output_type": "display_data",
          "data": {
            "text/plain": [
              "<Figure size 432x288 with 1 Axes>"
            ],
            "image/png": "[encoded data removed]"
          },
          "metadata": {
            "needs_background": "light"
          }
        }
      ]
    },
    {
      "cell_type": "code",
      "source": [
        "filename = '/content/drive/MyDrive/Airline Data collection/qatar_airlines.csv'\n",
        "csv.field_size_limit(100000000)\n",
        "with open(filename) as f:\n",
        "  reader = csv.reader(f)\n",
        "  header_row = next(reader)\n",
        "  stars= []\n",
        "  pros = []\n",
        "  cons = []\n",
        "  for row in reader:\n",
        "    stars.append(row[5])\n",
        "    pros.append(row[6])\n",
        "    cons.append(row[7])\n",
        "\n",
        "s = []\n",
        "for star in stars:\n",
        "  print(star)\n",
        "  s = star.split(',')\n",
        "new_list =[]\n",
        "flat_list = [x for xs in s for x in xs]\n",
        "# flat_list\n",
        "for i in flat_list:\n",
        "  try:\n",
        "    new_list.append(int(i))\n",
        "  except ValueError:\n",
        "        continue\n",
        "n = []\n",
        "for value in range(0,len(new_list)):\n",
        "\n",
        "    if new_list[value] != 0:\n",
        "        n.append(new_list[value])\n",
        "\n",
        "count = [0,0,0,0,0]\n",
        "for i in n:\n",
        "  # print(i)\n",
        "  for s in range(1,6):\n",
        "    # print(s)\n",
        "    if i == s:\n",
        "      count[s-1] += 1\n",
        "      \n",
        "swissinter_airlines_c = count\n",
        "print(count)\n",
        "\n",
        "x = np.array([\"1\", \"2\", \"3\", \"4\",\"5\"])\n",
        "y = np.asarray(count)\n",
        "\n",
        "line = plt.bar(x,y)\n",
        "plt.title(\"Qatar Airways\")\n",
        "plt.xlabel('Stars Rating')\n",
        "plt.ylabel(\"Frequency\")\n",
        "\n",
        "for i in range(len(y)):\n",
        "    plt.annotate(str(y[i]), xy=(x[i],y[i]), ha='center', va='bottom')\n",
        "\n",
        "plt.show()"
      ],
      "metadata": {
        "colab": {
          "base_uri": "https://localhost:8080/",
          "height": 350
        },
        "id": "0nnsFP7qSMOd",
        "outputId": "753d8f12-ccda-49a2-b663-ade0e69243ba"
      },
      "execution_count": null,
      "outputs": [
        {
          "output_type": "stream",
          "name": "stdout",
          "text": [
            "[[5.0, 1.0, 4.0, 4.0, 5.0, 5.0, 4.0, 5.0, 5.0, 1.0], [3.0, 4.0, 2.0, 5.0, 5.0, 5.0, 3.0, 5.0, 1.0, 4.0], [2.0, 5.0, 4.0, 3.0, 1.0, 5.0, 1.0, 2.0, 2.0, 5.0], [4.0, 2.0, 4.0, 5.0, 4.0, 4.0, 5.0, 5.0, 4.0, 4.0], [5.0, 2.0, 4.0, 4.0, 3.0, 5.0, 4.0, 3.0, 1.0, 5.0], [3.0, 2.0, 5.0, 4.0, 4.0, 5.0, 5.0, 5.0, 1.0, 3.0], [5.0, 5.0, 2.0, 3.0, 5.0, 3.0, 3.0, 5.0, 2.0, 3.0], [2.0, 3.0, 4.0, 3.0, 4.0, 5.0, 1.0, 1.0, 5.0, 1.0], [5.0, 5.0, 4.0, 1.0, 3.0, 4.0, 4.0, 4.0, 4.0, 4.0], [5.0, 4.0, 5.0, 4.0, 1.0, 2.0, 1.0, 3.0, 1.0, 3.0], [3.0, 1.0, 3.0, 2.0, 2.0, 2.0, 3.0, 2.0, 3.0, 3.0], [1.0, 3.0, 1.0, 2.0, 3.0, 1.0, 5.0, 1.0, 5.0, 2.0], [3.0, 1.0, 1.0, 3.0, 1.0, 1.0, 1.0, 1.0, 5.0, 5.0], [5.0, 5.0, 5.0, 5.0, 5.0, 4.0, 4.0, 4.0, 5.0, 4.0], [5.0, 4.0, 5.0, 5.0, 5.0, 4.0, 4.0, 5.0, 5.0, 5.0], [5.0, 4.0, 5.0, 4.0, 3.0, 5.0, 4.0, 5.0, 5.0, 1.0], [5.0, 4.0, 3.0, 3.0, 4.0, 5.0, 5.0, 5.0, 5.0, 3.0], [4.0, 5.0, 5.0, 4.0, 3.0, 5.0, 4.0, 4.0, 4.0, 5.0], [4.0, 5.0, 4.0, 4.0, 4.0, 4.0, 5.0, 4.0, 4.0, 4.0], [4.0, 4.0, 4.0, 1.0, 1.0, 5.0, 3.0, 4.0, 5.0, 5.0], [5.0, 2.0, 5.0, 2.0, 3.0, 5.0, 5.0, 5.0, 4.0, 2.0], [2.0, 5.0, 1.0, 1.0, 5.0, 5.0, 4.0, 5.0, 4.0, 4.0], [4.0, 5.0, 5.0, 5.0, 5.0, 5.0, 5.0, 1.0, 5.0, 4.0], [4.0, 3.0, 5.0, 4.0, 3.0, 5.0, 4.0, 5.0, 2.0, 5.0], [5.0, 5.0, 1.0, 4.0, 3.0, 5.0, 5.0, 4.0, 4.0, 5.0], [3.0, 5.0, 5.0, 3.0, 3.0, 5.0, 3.0, 5.0, 3.0, 1.0], [5.0, 5.0, 4.0, 5.0, 5.0, 5.0, 3.0, 5.0, 5.0, 1.0], [4.0, 3.0, 3.0, 3.0, 5.0, 5.0, 5.0, 4.0, 5.0, 1.0], [5.0, 4.0, 4.0, 2.0, 5.0, 5.0, 3.0, 3.0, 5.0, 5.0], [5.0, 5.0, 5.0, 4.0, 1.0, 4.0, 5.0, 5.0, 4.0, 5.0], [3.0, 5.0, 5.0, 5.0, 5.0, 5.0, 2.0, 1.0, 4.0, 2.0], [4.0, 5.0, 3.0, 5.0, 5.0, 5.0, 4.0, 5.0, 3.0, 2.0], [5.0, 4.0, 5.0, 3.0, 5.0, 3.0, 4.0, 4.0, 5.0, 4.0], [5.0, 3.0, 5.0, 5.0, 4.0, 2.0, 5.0, 4.0, 4.0, 4.0], [4.0, 4.0, 2.0, 3.0, 4.0, 5.0, 5.0, 4.0, 4.0, 3.0], [5.0, 5.0, 5.0, 5.0, 5.0, 1.0, 3.0, 3.0, 5.0, 1.0], [1.0, 4.0, 3.0, 1.0, 5.0, 3.0, 2.0, 5.0, 1.0, 4.0], [3.0, 2.0, 5.0, 2.0, 4.0, 5.0, 1.0, 4.0, 4.0, 4.0], [5.0, 5.0, 5.0, 3.0, 1.0, 3.0, 5.0, 2.0, 5.0, 3.0], [3.0, 3.0, 1.0, 4.0, 3.0, 5.0, 3.0, 4.0, 3.0, 5.0], [5.0, 5.0, 5.0, 4.0, 5.0, 5.0, 4.0, 1.0, 5.0, 5.0], [4.0, 3.0, 3.0, 3.0, 3.0, 4.0, 3.0, 5.0, 2.0, 4.0], [5.0, 5.0, 4.0, 4.0, 5.0, 2.0, 3.0, 5.0, 1.0, 5.0], [5.0, 4.0, 3.0, 5.0, 4.0, 5.0, 3.0, 5.0, 5.0, 2.0], [5.0, 5.0, 5.0, 3.0, 5.0, 1.0, 2.0, 3.0, 5.0, 5.0], [5.0, 5.0, 5.0, 4.0, 4.0, 1.0, 5.0, 3.0, 3.0, 5.0], [5.0, 4.0, 5.0, 1.0, 4.0, 4.0, 3.0, 3.0, 4.0, 5.0], [1.0, 4.0, 5.0, 2.0, 3.0, 2.0, 3.0, 5.0, 5.0, 2.0], [4.0, 4.0, 3.0, 1.0, 2.0, 3.0, 5.0, 5.0, 5.0, 4.0], [4.0, 3.0, 5.0, 2.0, 4.0, 3.0, 4.0, 3.0, 5.0, 5.0], [5.0, 5.0, 5.0, 3.0, 3.0, 4.0, 3.0, 5.0, 4.0, 2.0], [5.0, 5.0, 5.0, 2.0, 4.0, 5.0, 4.0, 5.0, 5.0, 4.0], [5.0, 1.0, 3.0, 5.0, 5.0, 5.0, 5.0, 5.0, 5.0, 4.0], [4.0, 5.0, 5.0, 5.0, 3.0, 5.0, 4.0, 5.0, 1.0, 2.0], [5.0, 4.0, 4.0, 3.0, 2.0, 5.0, 3.0, 1.0, 5.0, 5.0], [4.0, 5.0, 4.0, 5.0, 4.0, 5.0, 5.0, 4.0, 5.0, 5.0], [5.0, 1.0, 4.0, 5.0, 1.0, 4.0, 1.0, 1.0, 4.0, 3.0], [1.0, 5.0, 5.0, 5.0, 5.0, 4.0, 3.0, 4.0, 5.0, 2.0], [2.0, 1.0, 2.0, 4.0, 4.0, 5.0, 5.0, 4.0, 4.0, 2.0], [4.0, 5.0, 5.0, 3.0, 4.0, 5.0, 1.0, 3.0, 3.0, 4.0], [5.0, 3.0, 5.0, 5.0, 1.0, 4.0, 5.0, 1.0, 5.0, 1.0], [5.0, 5.0, 1.0, 5.0, 5.0, 4.0, 1.0, 4.0, 3.0, 1.0], [3.0, 5.0, 3.0, 4.0, 5.0, 3.0, 5.0, 5.0, 5.0, 1.0], [4.0, 3.0, 3.0, 4.0, 4.0, 5.0, 5.0, 3.0, 5.0, 5.0], [2.0, 1.0, 3.0, 3.0, 5.0, 2.0, 5.0, 2.0, 3.0, 4.0], [3.0, 4.0, 3.0, 5.0, 4.0, 3.0, 5.0, 5.0, 4.0, 5.0], [5.0, 4.0, 5.0, 5.0, 3.0, 5.0, 5.0, 2.0, 5.0, 4.0], [4.0, 3.0, 1.0, 5.0, 5.0, 5.0, 3.0, 3.0, 1.0, 3.0], [4.0, 5.0, 3.0, 4.0, 5.0, 5.0, 5.0, 4.0, 4.0, 5.0], [1.0, 2.0, 4.0, 2.0, 3.0, 3.0, 1.0, 5.0, 3.0, 3.0], [5.0, 4.0, 4.0, 1.0, 4.0, 3.0, 5.0, 5.0, 5.0, 4.0], [3.0, 4.0, 1.0, 4.0, 1.0, 4.0, 4.0, 5.0, 4.0, 1.0], [5.0, 5.0, 5.0, 3.0, 5.0, 5.0, 3.0, 5.0, 5.0, 1.0], [4.0, 4.0, 5.0, 1.0, 4.0, 4.0, 5.0, 4.0, 2.0, 1.0], [1.0, 4.0, 4.0, 4.0, 5.0, 3.0, 1.0, 4.0, 1.0, 3.0], [5.0, 5.0, 5.0, 5.0, 5.0, 3.0, 4.0, 3.0, 3.0, 5.0], [2.0, 4.0, 4.0, 2.0, 2.0, 4.0, 5.0, 3.0, 3.0, 3.0], [5.0, 5.0, 2.0, 3.0, 3.0, 4.0, 5.0, 4.0, 5.0, 5.0], [3.0, 1.0, 2.0, 5.0, 3.0, 3.0, 1.0, 5.0, 4.0, 5.0], [2.0, 5.0, 2.0, 4.0, 3.0, 2.0, 3.0, 5.0, 4.0, 3.0], [4.0, 1.0, 5.0, 3.0, 5.0, 2.0, 3.0, 2.0, 5.0, 3.0], [1.0, 5.0, 5.0, 5.0, 2.0, 4.0, 4.0, 4.0, 3.0, 3.0], [4.0, 2.0, 4.0, 5.0, 4.0, 1.0, 4.0, 4.0, 3.0, 4.0], [3.0, 4.0, 5.0, 5.0, 3.0, 5.0, 5.0, 5.0, 5.0, 5.0], [1.0, 4.0, 5.0, 4.0, 3.0, 5.0, 5.0, 4.0, 3.0, 5.0], [1.0, 4.0, 3.0, 5.0, 5.0, 5.0, 5.0, 4.0, 5.0, 2.0], [5.0, 2.0, 5.0, 5.0, 4.0, 3.0, 5.0, 4.0, 3.0, 5.0], [4.0, 4.0, 3.0, 4.0, 3.0, 4.0, 5.0, 4.0, 5.0, 1.0], [5.0, 3.0, 1.0, 5.0, 5.0, 3.0, 4.0, 4.0, 4.0, 3.0], [4.0, 3.0, 2.0, 3.0, 4.0, 2.0, 4.0, 3.0, 5.0, 3.0], [5.0, 1.0, 4.0, 3.0, 5.0, 1.0, 5.0, 3.0, 5.0, 5.0], [4.0, 4.0, 3.0, 5.0, 2.0, 3.0, 1.0, 1.0, 4.0, 5.0], [4.0, 3.0, 5.0, 1.0, 3.0, 4.0, 5.0, 4.0, 5.0, 5.0], [2.0, 3.0, 5.0, 3.0, 5.0, 2.0, 5.0, 2.0, 5.0, 4.0], [1.0, 5.0, 4.0, 5.0, 5.0, 4.0, 4.0, 5.0, 2.0, 4.0], [5.0, 5.0, 5.0, 3.0, 5.0, 4.0, 5.0, 4.0, 3.0, 5.0], [5.0, 1.0, 5.0, 5.0, 5.0, 4.0, 3.0, 5.0, 4.0, 5.0], [5.0, 5.0, 5.0, 2.0, 5.0, 1.0, 4.0, 4.0, 5.0, 5.0], [4.0, 5.0, 3.0, 5.0, 5.0, 5.0, 4.0, 5.0, 5.0, 5.0], [1.0, 3.0, 3.0, 5.0, 3.0, 4.0, 5.0, 4.0, 4.0, 4.0], [4.0, 4.0, 5.0, 5.0, 2.0, 3.0, 5.0, 4.0, 5.0, 1.0], [5.0, 5.0, 4.0, 4.0, 5.0, 5.0, 2.0, 5.0, 4.0, 2.0], [3.0, 3.0, 2.0, 5.0, 4.0, 4.0, 2.0, 3.0, 5.0, 5.0], [5.0, 5.0, 4.0, 5.0, 5.0, 2.0, 2.0, 4.0, 5.0, 4.0], [5.0, 5.0, 4.0, 4.0, 4.0, 5.0, 4.0, 5.0, 5.0, 5.0], [4.0, 4.0, 5.0, 4.0, 5.0, 5.0, 5.0, 4.0, 4.0, 3.0], [5.0, 2.0, 5.0, 4.0, 5.0, 5.0, 5.0, 3.0, 4.0, 5.0], [5.0, 5.0, 4.0, 3.0, 5.0, 1.0, 5.0, 5.0, 5.0, 5.0], [4.0, 4.0, 4.0, 4.0, 5.0, 4.0, 5.0, 4.0, 1.0, 5.0], [3.0, 5.0, 4.0, 5.0, 5.0, 2.0, 3.0, 5.0, 4.0, 3.0], [5.0, 5.0, 2.0, 1.0, 5.0, 4.0, 5.0, 3.0, 5.0, 4.0], [2.0, 4.0, 4.0, 5.0, 3.0, 5.0, 3.0, 5.0, 3.0, 4.0], [2.0, 3.0, 4.0, 3.0, 2.0, 4.0, 4.0, 5.0, 5.0, 1.0], [5.0, 5.0, 4.0, 4.0, 5.0, 5.0, 4.0, 4.0, 4.0, 3.0], [3.0, 5.0, 5.0, 5.0, 5.0, 1.0, 5.0, 3.0, 5.0, 3.0], [5.0, 5.0, 5.0, 3.0, 2.0, 5.0, 5.0, 5.0, 5.0, 5.0], [4.0, 3.0, 5.0, 4.0, 4.0, 5.0, 2.0, 5.0, 5.0, 2.0], [5.0, 5.0, 4.0, 5.0, 5.0, 4.0, 5.0, 4.0, 5.0, 5.0], [5.0, 5.0, 4.0, 3.0, 4.0, 4.0, 4.0, 4.0, 3.0, 5.0], [5.0, 5.0, 5.0, 5.0, 5.0, 3.0, 2.0, 5.0, 1.0, 4.0], [5.0, 5.0, 4.0, 5.0, 2.0, 1.0, 5.0, 4.0, 5.0, 4.0], [3.0, 5.0, 5.0, 2.0, 4.0, 5.0, 4.0, 4.0, 2.0, 5.0], [4.0, 5.0, 4.0, 4.0, 4.0, 3.0, 4.0, 4.0, 3.0, 4.0], [4.0, 2.0, 4.0, 2.0, 4.0, 5.0, 5.0, 5.0, 4.0, 3.0], [5.0, 5.0, 3.0, 5.0, 2.0, 5.0, 5.0, 5.0, 5.0, 2.0], [4.0, 5.0, 4.0, 4.0, 5.0, 4.0, 2.0, 4.0, 4.0, 5.0], [3.0, 3.0, 5.0, 3.0, 5.0, 5.0, 3.0, 5.0, 5.0, 3.0], [5.0, 3.0, 1.0, 4.0, 4.0, 4.0, 2.0, 3.0, 5.0, 5.0], [4.0, 3.0, 5.0, 2.0, 5.0, 4.0, 4.0, 4.0, 5.0, 5.0], [2.0, 5.0, 5.0, 5.0, 5.0, 5.0, 5.0, 4.0, 5.0, 5.0], [5.0, 5.0, 5.0, 3.0, 3.0, 4.0, 4.0, 3.0, 1.0, 3.0], [5.0, 5.0, 1.0, 4.0, 4.0, 5.0, 2.0, 4.0, 3.0, 3.0], [3.0, 3.0, 3.0, 4.0, 3.0, 5.0, 5.0, 2.0, 2.0, 5.0], [1.0, 5.0, 5.0, 5.0, 5.0, 2.0, 3.0, 3.0, 3.0, 4.0], [5.0, 3.0, 5.0, 4.0, 3.0, 3.0, 5.0, 4.0, 3.0, 5.0], [2.0, 3.0, 5.0, 3.0, 4.0, 3.0, 2.0, 3.0, 2.0, 5.0], [5.0, 4.0, 3.0, 1.0, 2.0, 2.0, 5.0, 4.0, 3.0, 3.0], [5.0, 2.0, 3.0, 3.0, 5.0, 5.0, 1.0, 5.0, 3.0, 1.0], [3.0, 3.0, 4.0, 2.0, 2.0, 3.0, 4.0, 2.0, 4.0, 5.0], [2.0, 4.0, 4.0, 3.0, 2.0, 5.0, 5.0, 3.0, 4.0, 1.0], [5.0, 4.0, 5.0, 3.0, 5.0, 5.0, 2.0, 1.0, 2.0, 4.0], [2.0, 3.0, 3.0, 3.0, 5.0, 3.0, 1.0, 3.0, 3.0, 1.0], [4.0, 2.0, 3.0, 4.0, 1.0, 2.0, 1.0, 4.0, 3.0, 5.0], [5.0, 1.0, 3.0, 1.0, 1.0, 3.0, 3.0, 5.0, 2.0, 3.0], [3.0, 3.0, 1.0, 3.0, 1.0, 3.0, 2.0, 1.0, 5.0, 2.0], [1.0, 4.0, 3.0, 5.0, 1.0, 4.0, 5.0, 4.0, 1.0, 3.0], [3.0, 5.0, 4.0, 2.0, 5.0, 4.0, 4.0, 5.0, 5.0, 1.0], [4.0, 1.0, 5.0, 5.0, 5.0, 4.0, 4.0, 4.0, 4.0, 4.0], [5.0, 4.0, 3.0, 3.0, 5.0, 3.0, 4.0, 4.0, 5.0, 4.0], [4.0, 5.0, 4.0, 5.0, 4.0, 2.0, 1.0, 4.0, 5.0, 4.0], [1.0, 5.0, 5.0, 5.0, 5.0, 5.0, 4.0, 4.0, 4.0, 2.0], [5.0, 4.0, 1.0, 5.0, 4.0, 4.0, 5.0, 5.0, 3.0, 4.0], [1.0, 4.0, 1.0, 3.0, 5.0, 4.0, 5.0, 3.0, 5.0, 5.0], [3.0, 5.0, 2.0, 4.0, 5.0, 5.0, 5.0, 4.0, 5.0, 5.0], [4.0, 4.0, 5.0, 3.0, 4.0, 4.0, 5.0, 4.0, 3.0, 2.0], [2.0, 4.0, 5.0, 4.0, 5.0, 4.0, 4.0, 5.0, 4.0, 4.0], [4.0, 2.0, 5.0, 5.0, 5.0, 5.0, 2.0, 5.0, 4.0, 3.0], [5.0, 5.0, 3.0, 3.0, 4.0, 4.0, 2.0, 5.0, 4.0, 5.0], [4.0, 5.0, 1.0, 5.0, 5.0, 5.0, 5.0, 5.0, 4.0, 5.0], [4.0, 5.0, 1.0, 2.0, 5.0, 5.0, 4.0, 5.0, 5.0, 4.0], [5.0, 5.0, 5.0, 2.0, 4.0, 3.0, 5.0, 5.0, 5.0, 5.0], [5.0, 4.0, 4.0, 5.0, 2.0, 4.0, 5.0, 5.0, 2.0, 5.0], [3.0, 1.0, 5.0, 5.0, 3.0, 5.0, 1.0, 4.0, 5.0, 1.0], [5.0, 5.0, 5.0, 4.0, 5.0, 4.0, 5.0, 4.0, 5.0, 5.0], [4.0, 1.0, 2.0, 5.0, 5.0, 5.0, 5.0, 5.0, 5.0, 5.0], [5.0, 4.0, 2.0, 2.0, 4.0, 4.0, 5.0, 5.0, 1.0, 5.0], [5.0, 4.0, 4.0, 5.0, 3.0, 4.0, 4.0, 5.0, 4.0, 5.0], [2.0, 4.0, 3.0, 4.0, 4.0, 1.0, 5.0, 2.0, 4.0, 5.0], [4.0, 5.0, 5.0, 5.0, 5.0, 3.0, 5.0, 5.0, 5.0, 5.0], [5.0, 5.0, 5.0, 4.0, 5.0, 4.0, 4.0, 5.0, 3.0, 4.0], [5.0, 4.0, 4.0, 5.0, 5.0, 4.0, 4.0, 4.0, 5.0, 5.0], [4.0, 5.0, 4.0, 5.0, 1.0, 3.0, 2.0, 4.0, 1.0, 4.0], [4.0, 5.0, 5.0, 4.0, 5.0, 4.0, 4.0, 3.0, 2.0, 3.0], [5.0, 5.0, 5.0, 5.0, 5.0, 4.0, 3.0, 5.0, 5.0, 5.0], [4.0, 3.0, 2.0, 5.0, 2.0, 3.0, 1.0, 4.0, 2.0, 5.0], [5.0, 5.0, 3.0, 5.0, 5.0, 3.0, 2.0, 4.0, 1.0, 5.0], [5.0, 4.0, 5.0, 4.0, 5.0, 5.0, 3.0, 5.0, 5.0, 5.0], [5.0, 5.0, 4.0, 5.0, 5.0, 5.0, 5.0, 1.0, 4.0, 4.0], [5.0, 4.0, 4.0, 5.0, 3.0, 5.0, 4.0, 4.0, 4.0, 5.0], [3.0, 4.0, 5.0, 1.0, 5.0, 3.0, 5.0, 1.0, 2.0, 2.0], [4.0, 4.0, 4.0, 5.0, 5.0, 4.0, 5.0, 5.0, 4.0, 3.0], [1.0, 5.0, 4.0, 5.0, 5.0, 1.0, 5.0, 5.0, 4.0, 1.0], [5.0, 5.0, 3.0, 1.0, 5.0, 4.0, 1.0, 3.0, 5.0, 3.0], [4.0, 5.0, 1.0, 4.0, 3.0, 2.0, 4.0, 3.0, 4.0, 3.0], [3.0, 3.0, 4.0, 5.0, 4.0, 5.0, 5.0, 3.0, 3.0, 3.0], [5.0, 5.0, 2.0, 5.0, 3.0, 3.0, 5.0, 5.0, 1.0, 4.0], [5.0, 4.0, 3.0, 4.0, 5.0, 1.0, 2.0, 1.0, 5.0, 3.0], [3.0, 5.0, 5.0, 2.0, 1.0, 3.0, 5.0, 3.0, 2.0, 4.0], [4.0, 1.0, 4.0, 5.0, 5.0, 5.0, 5.0, 5.0, 4.0, 4.0], [4.0, 4.0, 5.0, 2.0, 5.0, 4.0, 4.0, 4.0, 4.0, 5.0], [4.0, 5.0, 3.0, 5.0, 4.0, 5.0, 4.0, 3.0, 3.0, 5.0], [4.0, 4.0, 4.0, 5.0, 4.0, 4.0, 1.0, 1.0, 3.0, 4.0], [1.0, 1.0, 4.0, 1.0, 3.0, 2.0, 3.0, 3.0, 3.0, 1.0], [2.0, 1.0, 5.0, 5.0, 5.0, 5.0, 4.0, 1.0, 1.0, 3.0], [1.0, 2.0, 1.0, 1.0, 3.0, 1.0, 3.0, 3.0, 2.0, 3.0], [3.0, 2.0, 3.0, 2.0, 1.0, 3.0, 3.0, 3.0, 1.0, 3.0], [3.0, 3.0, 3.0, 3.0, 3.0, 3.0, 3.0, 3.0, 3.0, 1.0], [4.0, 4.0, 1.0, 3.0, 1.0, 1.0, 2.0, 5.0, 3.0, 5.0], [3.0, 1.0, 3.0, 1.0, 3.0, 3.0, 1.0, 3.0, 2.0, 3.0], [3.0, 3.0, 3.0, 3.0, 3.0, 3.0, 1.0, 3.0, 2.0, 3.0], [5.0, 1.0, 5.0, 5.0, 1.0, 4.0, 5.0, 5.0, 4.0, 2.0], [3.0, 1.0, 2.0, 3.0, 3.0, 3.0, 3.0, 3.0, 2.0, 3.0], [3.0, 3.0, 2.0, 1.0, 3.0, 1.0, 2.0, 3.0, 1.0, 2.0], [4.0, 4.0, 1.0, 3.0, 1.0, 5.0, 5.0, 5.0, 1.0, 3.0], [3.0, 4.0, 1.0, 4.0, 3.0, 1.0, 5.0, 2.0, 5.0, 3.0], [3.0, 2.0, 3.0, 1.0, 1.0, 2.0, 2.0, 3.0, 3.0, 3.0], [2.0, 3.0, 3.0, 2.0, 3.0, 3.0, 1.0, 3.0, 3.0, 3.0], [1.0, 3.0, 2.0, 3.0, 3.0, 2.0, 3.0, 2.0, 3.0, 3.0], [3.0, 4.0, 4.0, 3.0, 5.0, 4.0, 3.0, 3.0, 5.0, 1.0], [5.0, 5.0, 4.0, 3.0, 5.0, 3.0, 4.0, 4.0, 5.0, 4.0], [1.0, 1.0, 1.0, 1.0, 1.0, 1.0, 1.0, 1.0, 1.0, 1.0], [1.0, 1.0, 1.0, 1.0, 1.0]]\n",
            "[219, 185, 405, 518, 788]\n"
          ]
        },
        {
          "output_type": "display_data",
          "data": {
            "text/plain": [
              "<Figure size 432x288 with 1 Axes>"
            ],
            "image/png": "[encoded data removed]"
          },
          "metadata": {
            "needs_background": "light"
          }
        }
      ]
    },
    {
      "cell_type": "code",
      "source": [
        "filename = '/content/drive/MyDrive/Airline Data collection/qantas_airlines.csv'\n",
        "csv.field_size_limit(100000000)\n",
        "with open(filename) as f:\n",
        "  reader = csv.reader(f)\n",
        "  header_row = next(reader)\n",
        "  stars= []\n",
        "  pros = []\n",
        "  cons = []\n",
        "  for row in reader:\n",
        "    stars.append(row[5])\n",
        "    pros.append(row[6])\n",
        "    cons.append(row[7])\n",
        "\n",
        "s = []\n",
        "for star in stars:\n",
        "  print(star)\n",
        "  s = star.split(',')\n",
        "new_list =[]\n",
        "flat_list = [x for xs in s for x in xs]\n",
        "# flat_list\n",
        "for i in flat_list:\n",
        "  try:\n",
        "    new_list.append(int(i))\n",
        "  except ValueError:\n",
        "        continue\n",
        "n = []\n",
        "for value in range(0,len(new_list)):\n",
        "\n",
        "    if new_list[value] != 0:\n",
        "        n.append(new_list[value])\n",
        "\n",
        "count = [0,0,0,0,0]\n",
        "for i in n:\n",
        "  # print(i)\n",
        "  for s in range(1,6):\n",
        "    # print(s)\n",
        "    if i == s:\n",
        "      count[s-1] += 1\n",
        "      \n",
        "swissinter_airlines_c = count\n",
        "print(count)\n",
        "\n",
        "x = np.array([\"1\", \"2\", \"3\", \"4\",\"5\"])\n",
        "y = np.asarray(count)\n",
        "\n",
        "line = plt.bar(x,y)\n",
        "plt.title(\"Qantas Airways\")\n",
        "plt.xlabel('Stars Rating')\n",
        "plt.ylabel(\"Frequency\")\n",
        "\n",
        "for i in range(len(y)):\n",
        "    plt.annotate(str(y[i]), xy=(x[i],y[i]), ha='center', va='bottom')\n",
        "\n",
        "plt.show()"
      ],
      "metadata": {
        "colab": {
          "base_uri": "https://localhost:8080/",
          "height": 350
        },
        "id": "JjPF1wclSR-8",
        "outputId": "d76215ef-5ae3-43b9-81fc-667716e305b5"
      },
      "execution_count": null,
      "outputs": [
        {
          "output_type": "stream",
          "name": "stdout",
          "text": [
            "[[5.0, 3.0, 4.0, 3.0, 1.0, 4.0, 4.0, 5.0, 4.0, 5.0], [5.0, 4.0, 5.0, 5.0, 4.0, 4.0, 2.0, 5.0, 4.0, 5.0], [5.0, 5.0, 5.0, 4.0, 4.0, 4.0, 3.0, 3.0, 3.0, 2.0], [5.0, 5.0, 5.0, 3.0, 4.0, 2.0, 3.0, 5.0, 2.0, 2.0], [4.0, 5.0, 1.0, 5.0, 2.0, 2.0, 4.0, 4.0, 5.0, 2.0], [4.0, 5.0, 4.0, 3.0, 5.0, 4.0, 5.0, 5.0, 3.0, 4.0], [3.0, 4.0, 4.0, 2.0, 3.0, 5.0, 4.0, 5.0, 1.0, 3.0], [5.0, 2.0, 3.0, 1.0, 4.0, 4.0, 4.0, 3.0, 1.0, 2.0], [4.0, 4.0, 4.0, 3.0, 4.0, 4.0, 4.0, 5.0, 1.0, 5.0], [5.0, 3.0, 3.0, 5.0, 4.0, 5.0, 4.0, 4.0, 3.0, 2.0], [3.0, 3.0, 1.0, 4.0, 4.0, 4.0, 5.0, 1.0, 5.0, 4.0], [5.0, 4.0, 4.0, 4.0, 3.0, 5.0, 4.0, 4.0, 3.0, 2.0], [5.0, 5.0, 3.0, 5.0, 5.0, 5.0, 4.0, 3.0, 3.0, 5.0], [2.0, 4.0, 4.0, 4.0, 5.0, 5.0, 5.0, 4.0, 5.0, 3.0], [3.0, 5.0, 4.0, 5.0, 2.0, 3.0, 5.0, 5.0, 4.0, 5.0], [4.0, 5.0, 4.0, 3.0, 5.0, 4.0, 4.0, 4.0, 3.0, 4.0], [5.0, 5.0, 5.0, 5.0, 4.0, 4.0, 5.0, 4.0, 4.0, 3.0], [3.0, 5.0, 4.0, 3.0, 4.0, 5.0, 4.0, 5.0, 4.0, 5.0], [3.0, 3.0, 2.0, 5.0, 5.0, 2.0, 5.0, 5.0, 3.0, 4.0], [4.0, 4.0, 5.0, 4.0, 5.0, 3.0, 3.0, 5.0, 5.0, 4.0], [4.0, 3.0, 4.0, 5.0, 4.0, 5.0, 5.0, 2.0, 4.0, 1.0], [3.0, 3.0, 4.0, 4.0, 2.0, 4.0, 5.0, 4.0, 5.0, 4.0], [5.0, 4.0, 3.0, 5.0, 3.0, 2.0, 4.0, 5.0, 4.0, 5.0], [4.0, 4.0, 4.0, 4.0, 4.0, 5.0, 5.0, 4.0, 3.0, 1.0], [2.0, 4.0, 4.0, 4.0, 2.0, 2.0, 4.0, 4.0, 4.0, 5.0], [4.0, 4.0, 3.0, 4.0, 4.0, 5.0, 5.0, 3.0, 4.0, 4.0], [3.0, 3.0, 4.0, 3.0, 4.0, 5.0, 4.0, 5.0, 4.0, 5.0], [5.0, 3.0, 5.0, 4.0, 5.0, 1.0, 5.0, 3.0, 4.0, 3.0], [4.0, 4.0, 5.0, 3.0, 1.0, 5.0, 3.0, 4.0, 2.0, 5.0], [4.0, 5.0, 3.0, 4.0, 5.0, 4.0, 5.0, 4.0, 3.0, 4.0], [5.0, 5.0, 3.0, 3.0, 5.0, 4.0, 5.0, 5.0, 1.0, 5.0], [5.0, 4.0, 5.0, 2.0, 5.0, 4.0, 5.0, 5.0, 5.0, 4.0], [4.0, 3.0, 5.0, 2.0, 5.0, 4.0, 4.0, 4.0, 5.0, 4.0], [5.0, 4.0, 3.0, 4.0, 5.0, 3.0, 5.0, 5.0, 4.0, 3.0], [5.0, 5.0, 4.0, 5.0, 5.0, 1.0, 5.0, 5.0, 5.0, 2.0], [4.0, 4.0, 5.0, 4.0, 4.0, 5.0, 4.0, 4.0, 4.0, 3.0], [4.0, 4.0, 4.0, 4.0, 4.0, 4.0, 5.0, 4.0, 4.0, 4.0], [4.0, 4.0, 4.0, 5.0, 5.0, 4.0, 4.0, 4.0, 4.0, 5.0], [1.0, 5.0, 1.0, 4.0, 5.0, 3.0, 5.0, 4.0, 4.0, 5.0], [4.0, 5.0, 5.0, 5.0, 5.0, 3.0, 4.0, 5.0, 5.0, 4.0], [5.0, 3.0, 5.0, 4.0, 4.0, 4.0, 4.0, 5.0, 4.0, 5.0], [3.0, 4.0, 4.0, 5.0, 5.0, 5.0, 5.0, 1.0, 3.0, 4.0], [4.0, 5.0, 4.0, 2.0, 4.0, 4.0, 4.0, 5.0, 3.0, 4.0], [3.0, 4.0, 5.0, 2.0, 5.0, 5.0, 3.0, 5.0, 4.0, 4.0], [5.0, 5.0, 5.0, 4.0, 5.0, 4.0, 5.0, 4.0, 5.0, 5.0], [4.0, 4.0, 5.0, 3.0, 3.0, 3.0, 5.0, 5.0, 5.0, 5.0], [5.0, 5.0, 4.0, 5.0, 5.0, 4.0, 5.0, 4.0, 4.0, 4.0], [4.0, 1.0, 3.0, 5.0, 5.0, 5.0, 4.0, 5.0, 5.0, 4.0], [4.0, 2.0, 5.0, 5.0, 5.0, 5.0, 5.0, 4.0, 5.0, 2.0], [5.0, 5.0, 5.0, 5.0, 1.0, 5.0, 5.0, 5.0, 4.0, 5.0], [5.0, 3.0, 5.0, 4.0, 3.0, 3.0, 5.0, 1.0, 4.0, 5.0], [4.0, 4.0, 5.0, 3.0, 5.0, 4.0, 3.0, 5.0, 2.0, 2.0], [5.0, 5.0, 5.0, 5.0, 2.0, 4.0, 4.0, 5.0, 4.0, 5.0], [5.0, 3.0, 1.0, 4.0, 5.0, 5.0, 5.0, 2.0, 3.0, 5.0], [3.0, 3.0, 5.0, 4.0, 4.0, 5.0, 4.0, 5.0, 4.0, 4.0], [5.0, 5.0, 5.0, 4.0, 3.0, 4.0, 5.0, 5.0, 3.0, 3.0], [4.0, 5.0, 5.0, 2.0, 5.0, 4.0, 3.0, 4.0, 3.0, 3.0], [4.0, 4.0, 4.0, 5.0, 3.0, 4.0, 5.0, 4.0, 3.0, 2.0], [4.0, 2.0, 5.0, 4.0, 3.0, 5.0, 4.0, 4.0, 5.0, 3.0], [3.0, 5.0, 1.0, 3.0, 3.0, 5.0, 2.0, 3.0, 3.0, 2.0], [3.0, 5.0, 3.0, 2.0, 2.0, 4.0, 1.0, 4.0, 4.0, 5.0], [2.0, 1.0, 5.0, 3.0, 4.0, 4.0, 4.0, 5.0, 4.0, 4.0], [4.0, 5.0, 5.0, 4.0, 5.0, 3.0, 2.0, 4.0, 4.0, 5.0], [5.0, 5.0, 4.0, 1.0, 4.0, 2.0, 5.0, 2.0, 4.0, 5.0], [4.0, 5.0, 3.0, 4.0, 5.0, 5.0, 5.0, 5.0, 4.0, 4.0], [5.0, 4.0, 2.0, 5.0, 1.0, 5.0, 4.0, 4.0, 1.0, 2.0], [3.0, 3.0, 5.0, 5.0, 4.0, 5.0, 4.0, 1.0, 4.0, 1.0], [2.0, 4.0, 5.0, 4.0, 4.0, 3.0, 5.0, 4.0, 4.0, 5.0], [4.0, 5.0, 5.0, 5.0, 4.0, 5.0, 4.0, 3.0, 4.0, 5.0], [3.0, 5.0, 5.0, 4.0, 4.0, 2.0, 4.0, 4.0, 4.0, 5.0], [2.0, 2.0, 4.0, 4.0, 5.0, 5.0, 5.0, 3.0, 3.0, 4.0], [2.0, 4.0, 3.0, 4.0, 5.0, 5.0, 4.0, 3.0, 3.0, 4.0], [5.0, 5.0, 4.0, 4.0, 5.0, 5.0, 4.0, 3.0, 1.0, 2.0], [4.0, 5.0, 5.0, 3.0, 4.0, 4.0, 4.0, 4.0, 5.0, 4.0], [4.0, 5.0, 4.0, 5.0, 5.0, 5.0, 4.0, 5.0, 4.0, 4.0], [5.0, 4.0, 5.0, 4.0, 5.0, 5.0, 5.0, 4.0, 5.0, 4.0], [4.0, 5.0, 4.0, 4.0, 4.0, 5.0, 4.0, 5.0, 4.0, 4.0], [5.0, 5.0, 2.0, 4.0, 4.0, 4.0, 4.0, 4.0, 4.0, 3.0], [5.0, 5.0, 4.0, 4.0, 5.0, 3.0, 2.0, 2.0, 4.0, 4.0], [5.0, 5.0, 4.0, 4.0, 5.0, 4.0, 4.0, 5.0, 4.0, 5.0], [3.0, 5.0, 4.0, 5.0, 2.0, 5.0, 3.0, 1.0, 3.0, 4.0], [4.0, 5.0, 3.0, 4.0, 5.0, 3.0, 5.0, 5.0, 4.0, 4.0], [5.0, 5.0, 3.0, 5.0, 5.0, 5.0, 5.0, 4.0, 4.0, 4.0], [4.0, 4.0, 4.0, 4.0, 2.0, 4.0, 4.0, 5.0, 2.0, 4.0], [4.0, 4.0, 5.0, 4.0, 1.0, 4.0, 1.0, 1.0, 2.0, 2.0], [3.0, 3.0, 3.0, 3.0, 2.0, 3.0, 2.0, 3.0, 1.0, 2.0], [2.0, 3.0, 2.0, 2.0, 3.0, 3.0, 3.0, 2.0, 2.0, 3.0], [2.0, 4.0, 4.0, 2.0, 3.0, 3.0, 4.0, 2.0, 4.0, 5.0], [3.0, 3.0, 3.0, 3.0, 1.0, 2.0, 3.0, 3.0, 3.0, 3.0], [4.0, 3.0, 4.0, 5.0, 2.0, 3.0, 3.0, 4.0, 3.0, 2.0], [3.0, 3.0, 3.0, 3.0, 3.0, 3.0, 3.0, 2.0, 1.0]]\n",
            "[37, 77, 156, 329, 310]\n"
          ]
        },
        {
          "output_type": "display_data",
          "data": {
            "text/plain": [
              "<Figure size 432x288 with 1 Axes>"
            ],
            "image/png": "[encoded data removed]"
          },
          "metadata": {
            "needs_background": "light"
          }
        }
      ]
    },
    {
      "cell_type": "code",
      "source": [
        "filename = '/content/drive/MyDrive/Airline Data collection/korean_airlines.csv'\n",
        "csv.field_size_limit(100000000)\n",
        "with open(filename) as f:\n",
        "  reader = csv.reader(f)\n",
        "  header_row = next(reader)\n",
        "  stars= []\n",
        "  pros = []\n",
        "  cons = []\n",
        "  for row in reader:\n",
        "    stars.append(row[5])\n",
        "    pros.append(row[6])\n",
        "    cons.append(row[7])\n",
        "\n",
        "s = []\n",
        "for star in stars:\n",
        "  print(star)\n",
        "  s = star.split(',')\n",
        "new_list =[]\n",
        "flat_list = [x for xs in s for x in xs]\n",
        "# flat_list\n",
        "for i in flat_list:\n",
        "  try:\n",
        "    new_list.append(int(i))\n",
        "  except ValueError:\n",
        "        continue\n",
        "n = []\n",
        "for value in range(0,len(new_list)):\n",
        "\n",
        "    if new_list[value] != 0:\n",
        "        n.append(new_list[value])\n",
        "\n",
        "count = [0,0,0,0,0]\n",
        "for i in n:\n",
        "  # print(i)\n",
        "  for s in range(1,6):\n",
        "    # print(s)\n",
        "    if i == s:\n",
        "      count[s-1] += 1\n",
        "      \n",
        "swissinter_airlines_c = count\n",
        "print(count)\n",
        "\n",
        "x = np.array([\"1\", \"2\", \"3\", \"4\",\"5\"])\n",
        "y = np.asarray(count)\n",
        "\n",
        "line = plt.bar(x,y)\n",
        "plt.title(\"Korean Air\")\n",
        "plt.xlabel('Stars Rating')\n",
        "plt.ylabel(\"Frequency\")\n",
        "\n",
        "for i in range(len(y)):\n",
        "    plt.annotate(str(y[i]), xy=(x[i],y[i]), ha='center', va='bottom')\n",
        "\n",
        "plt.show()"
      ],
      "metadata": {
        "colab": {
          "base_uri": "https://localhost:8080/",
          "height": 350
        },
        "id": "HSTTi1jQSWcs",
        "outputId": "252fef1f-b924-431f-97ce-87c6875db70d"
      },
      "execution_count": null,
      "outputs": [
        {
          "output_type": "stream",
          "name": "stdout",
          "text": [
            "[[5.0, 4.0, 3.0, 3.0, 4.0, 1.0, 5.0, 2.0, 4.0, 4.0], [1.0, 4.0, 4.0, 4.0, 5.0, 3.0, 1.0, 4.0, 4.0, 4.0], [3.0, 5.0, 1.0, 2.0, 1.0, 1.0, 3.0, 5.0, 3.0, 2.0], [2.0, 4.0, 3.0, 3.0, 1.0, 3.0, 3.0, 2.0, 1.0, 5.0], [1.0, 3.0, 2.0, 3.0, 1.0, 3.0, 4.0, 2.0, 1.0, 1.0], [5.0, 3.0, 4.0, 2.0, 4.0, 4.0, 4.0, 1.0, 1.0, 5.0], [4.0, 2.0, 4.0, 1.0, 1.0, 4.0, 1.0, 1.0, 1.0, 4.0], [4.0, 3.0, 2.0, 4.0, 2.0, 2.0, 1.0, 1.0, 4.0, 2.0], [1.0, 1.0, 3.0, 3.0, 2.0, 3.0, 1.0, 2.0, 2.0, 1.0], [3.0, 3.0, 3.0, 3.0, 3.0, 2.0, 3.0, 2.0, 3.0, 3.0], [2.0, 2.0, 2.0, 3.0, 2.0, 3.0, 2.0, 2.0, 3.0, 3.0], [2.0, 2.0, 3.0, 2.0, 5.0, 3.0, 3.0, 3.0, 4.0, 3.0], [3.0, 5.0, 5.0, 3.0, 3.0, 5.0, 5.0, 3.0, 2.0, 4.0], [5.0, 4.0, 3.0, 5.0, 4.0, 4.0, 5.0, 5.0, 2.0, 5.0], [5.0, 5.0, 2.0, 4.0, 5.0, 4.0, 1.0, 3.0, 5.0, 5.0], [3.0, 2.0, 3.0, 1.0, 5.0, 5.0, 4.0, 2.0, 4.0, 1.0], [1.0, 5.0, 4.0, 3.0, 2.0, 3.0, 2.0, 4.0, 3.0, 3.0], [2.0, 2.0, 4.0, 4.0, 3.0, 3.0, 2.0, 2.0, 3.0, 3.0], [3.0, 5.0, 4.0, 4.0, 3.0, 4.0, 3.0, 2.0, 4.0, 4.0], [4.0, 5.0, 4.0, 4.0, 5.0, 4.0, 4.0, 5.0, 4.0, 5.0], [4.0, 4.0, 4.0, 3.0, 5.0, 5.0, 5.0, 3.0, 4.0, 3.0], [5.0, 4.0, 4.0, 5.0, 4.0, 4.0, 4.0, 4.0, 2.0, 2.0], [3.0, 5.0, 2.0, 2.0, 3.0, 4.0, 3.0, 3.0, 3.0, 5.0], [4.0, 1.0, 3.0, 1.0, 2.0, 4.0, 1.0, 4.0, 2.0, 3.0], [3.0, 3.0, 2.0, 1.0, 1.0, 1.0, 1.0]]\n",
            "[36, 46, 66, 61, 38]\n"
          ]
        },
        {
          "output_type": "display_data",
          "data": {
            "text/plain": [
              "<Figure size 432x288 with 1 Axes>"
            ],
            "image/png": "[encoded data removed]"
          },
          "metadata": {
            "needs_background": "light"
          }
        }
      ]
    },
    {
      "cell_type": "code",
      "source": [
        "filename = '/content/drive/MyDrive/Airline Data collection/japan_airlines.csv'\n",
        "csv.field_size_limit(100000000)\n",
        "with open(filename) as f:\n",
        "  reader = csv.reader(f)\n",
        "  header_row = next(reader)\n",
        "  stars= []\n",
        "  pros = []\n",
        "  cons = []\n",
        "  for row in reader:\n",
        "    stars.append(row[5])\n",
        "    pros.append(row[6])\n",
        "    cons.append(row[7])\n",
        "\n",
        "s = []\n",
        "for star in stars:\n",
        "  print(star)\n",
        "  s = star.split(',')\n",
        "new_list =[]\n",
        "flat_list = [x for xs in s for x in xs]\n",
        "# flat_list\n",
        "for i in flat_list:\n",
        "  try:\n",
        "    new_list.append(int(i))\n",
        "  except ValueError:\n",
        "        continue\n",
        "n = []\n",
        "for value in range(0,len(new_list)):\n",
        "\n",
        "    if new_list[value] != 0:\n",
        "        n.append(new_list[value])\n",
        "\n",
        "count = [0,0,0,0,0]\n",
        "for i in n:\n",
        "  # print(i)\n",
        "  for s in range(1,6):\n",
        "    # print(s)\n",
        "    if i == s:\n",
        "      count[s-1] += 1\n",
        "      \n",
        "swissinter_airlines_c = count\n",
        "print(count)\n",
        "\n",
        "x = np.array([\"1\", \"2\", \"3\", \"4\",\"5\"])\n",
        "y = np.asarray(count)\n",
        "\n",
        "line = plt.bar(x,y)\n",
        "plt.title(\"Japan Airlines\")\n",
        "plt.xlabel('Stars Rating')\n",
        "plt.ylabel(\"Frequency\")\n",
        "\n",
        "for i in range(len(y)):\n",
        "    plt.annotate(str(y[i]), xy=(x[i],y[i]), ha='center', va='bottom')\n",
        "\n",
        "plt.show()"
      ],
      "metadata": {
        "colab": {
          "base_uri": "https://localhost:8080/",
          "height": 350
        },
        "id": "Qn7TIYPXSZ65",
        "outputId": "1ee5dabd-20c0-472c-977a-1f94fee0d5eb"
      },
      "execution_count": null,
      "outputs": [
        {
          "output_type": "stream",
          "name": "stdout",
          "text": [
            "[[5.0, 4.0, 3.0, 4.0, 1.0, 5.0, 3.0, 1.0, 5.0, 3.0], [4.0, 1.0, 2.0, 4.0, 2.0, 5.0, 3.0, 2.0, 5.0, 4.0], [4.0, 4.0, 3.0, 2.0, 4.0, 4.0, 2.0, 3.0, 4.0, 3.0], [3.0, 5.0, 3.0, 5.0, 4.0, 4.0, 4.0, 3.0, 2.0, 4.0], [4.0, 3.0, 4.0, 4.0, 5.0, 2.0, 2.0, 4.0, 5.0, 3.0], [3.0, 2.0, 5.0, 3.0, 3.0, 5.0, 2.0, 4.0, 4.0, 1.0], [4.0, 3.0, 2.0, 4.0, 4.0, 4.0, 3.0, 4.0, 3.0, 5.0], [4.0, 4.0, 5.0, 3.0, 4.0, 4.0, 3.0, 3.0, 4.0, 5.0], [4.0, 3.0, 3.0, 5.0, 3.0, 5.0, 4.0, 4.0, 4.0, 1.0], [5.0, 4.0, 2.0, 4.0, 3.0, 1.0, 2.0, 4.0, 5.0, 4.0], [3.0, 1.0, 5.0, 4.0, 3.0, 4.0, 5.0, 4.0, 4.0, 3.0], [3.0, 4.0, 3.0, 4.0, 1.0, 2.0, 3.0, 5.0, 1.0, 1.0], [1.0, 1.0, 3.0, 3.0, 3.0, 1.0, 3.0, 3.0, 3.0, 5.0], [1.0, 4.0, 3.0, 2.0, 3.0, 3.0, 3.0]]\n",
            "[14, 15, 41, 45, 22]\n"
          ]
        },
        {
          "output_type": "display_data",
          "data": {
            "text/plain": [
              "<Figure size 432x288 with 1 Axes>"
            ],
            "image/png": "[encoded data removed]"
          },
          "metadata": {
            "needs_background": "light"
          }
        }
      ]
    },
    {
      "cell_type": "code",
      "source": [
        "filename = '/content/drive/MyDrive/Airline Data collection/emirates_airlines.csv'\n",
        "csv.field_size_limit(100000000)\n",
        "with open(filename) as f:\n",
        "  reader = csv.reader(f)\n",
        "  header_row = next(reader)\n",
        "  stars= []\n",
        "  pros = []\n",
        "  cons = []\n",
        "  for row in reader:\n",
        "    stars.append(row[5])\n",
        "    pros.append(row[6])\n",
        "    cons.append(row[7])\n",
        "\n",
        "s = []\n",
        "for star in stars:\n",
        "  print(star)\n",
        "  s = star.split(',')\n",
        "new_list =[]\n",
        "flat_list = [x for xs in s for x in xs]\n",
        "# flat_list\n",
        "for i in flat_list:\n",
        "  try:\n",
        "    new_list.append(int(i))\n",
        "  except ValueError:\n",
        "        continue\n",
        "n = []\n",
        "for value in range(0,len(new_list)):\n",
        "\n",
        "    if new_list[value] != 0:\n",
        "        n.append(new_list[value])\n",
        "\n",
        "count = [0,0,0,0,0]\n",
        "for i in n:\n",
        "  # print(i)\n",
        "  for s in range(1,6):\n",
        "    # print(s)\n",
        "    if i == s:\n",
        "      count[s-1] += 1\n",
        "      \n",
        "swissinter_airlines_c = count\n",
        "print(count)\n",
        "\n",
        "x = np.array([\"1\", \"2\", \"3\", \"4\",\"5\"])\n",
        "y = np.asarray(count)\n",
        "\n",
        "line = plt.bar(x,y)\n",
        "plt.title(\"Emirates\")\n",
        "plt.xlabel('Stars Rating')\n",
        "plt.ylabel(\"Frequency\")\n",
        "\n",
        "for i in range(len(y)):\n",
        "    plt.annotate(str(y[i]), xy=(x[i],y[i]), ha='center', va='bottom')\n",
        "\n",
        "plt.show()"
      ],
      "metadata": {
        "colab": {
          "base_uri": "https://localhost:8080/",
          "height": 350
        },
        "id": "qiChPsh_ShiP",
        "outputId": "5903968b-0f5c-4327-f6aa-8176e87d600b"
      },
      "execution_count": null,
      "outputs": [
        {
          "output_type": "stream",
          "name": "stdout",
          "text": [
            "[[5.0, 5.0, 5.0, 5.0, 4.0, 4.0, 4.0, 3.0, 4.0, 5.0], [4.0, 5.0, 4.0, 3.0, 3.0, 5.0, 2.0, 5.0, 5.0, 4.0], [4.0, 5.0, 4.0, 5.0, 5.0, 5.0, 3.0, 5.0, 4.0, 4.0], [2.0, 3.0, 4.0, 5.0, 3.0, 4.0, 4.0, 5.0, 5.0, 5.0], [1.0, 4.0, 5.0, 2.0, 4.0, 5.0, 5.0, 5.0, 4.0, 1.0], [5.0, 5.0, 5.0, 3.0, 1.0, 4.0, 2.0, 3.0, 3.0, 5.0], [3.0, 5.0, 5.0, 5.0, 5.0, 3.0, 5.0, 3.0, 5.0, 2.0], [3.0, 3.0, 4.0, 5.0, 5.0, 4.0, 5.0, 3.0, 1.0, 3.0], [5.0, 4.0, 4.0, 4.0, 5.0, 3.0, 4.0, 3.0, 4.0, 4.0], [5.0, 5.0, 5.0, 5.0, 5.0, 4.0, 5.0, 5.0, 1.0, 2.0], [5.0, 2.0, 2.0, 3.0, 5.0, 5.0, 5.0, 3.0, 4.0, 5.0], [4.0, 2.0, 4.0, 5.0, 5.0, 5.0, 3.0, 4.0, 5.0, 1.0], [4.0, 3.0, 5.0, 5.0, 3.0, 5.0, 4.0, 3.0, 4.0, 4.0], [5.0, 5.0, 5.0, 5.0, 5.0, 5.0, 5.0, 1.0, 4.0, 4.0], [3.0, 1.0, 5.0, 3.0, 3.0, 5.0, 2.0, 4.0, 1.0, 5.0], [4.0, 5.0, 4.0, 1.0, 1.0, 5.0, 3.0, 4.0, 5.0, 3.0], [5.0, 5.0, 5.0, 3.0, 4.0, 3.0, 5.0, 3.0, 4.0, 3.0], [5.0, 5.0, 5.0, 5.0, 5.0, 5.0, 5.0, 5.0, 5.0, 5.0], [5.0, 5.0, 5.0, 4.0, 5.0, 5.0, 5.0, 5.0, 5.0, 5.0], [5.0, 5.0, 5.0, 5.0, 4.0, 5.0, 3.0, 4.0, 5.0, 2.0], [2.0, 5.0, 1.0, 5.0, 4.0, 5.0, 5.0, 1.0, 4.0, 5.0], [4.0, 5.0, 5.0, 5.0, 5.0, 4.0, 5.0, 5.0, 5.0, 5.0], [3.0, 5.0, 3.0, 3.0, 3.0, 5.0, 5.0, 5.0, 4.0, 4.0], [5.0, 5.0, 4.0, 5.0, 5.0, 4.0, 3.0, 4.0, 5.0, 5.0], [5.0, 5.0, 4.0, 5.0, 5.0, 4.0, 5.0, 3.0, 5.0, 5.0], [5.0, 5.0, 5.0, 4.0, 5.0, 5.0, 5.0, 5.0, 4.0, 5.0], [3.0, 5.0, 5.0, 5.0, 4.0, 3.0, 5.0, 5.0, 4.0, 1.0], [4.0, 5.0, 4.0, 5.0, 5.0, 5.0, 5.0, 5.0, 5.0, 3.0], [2.0, 3.0, 4.0, 4.0, 3.0, 5.0, 5.0, 5.0, 5.0, 5.0], [4.0, 2.0, 5.0, 3.0, 1.0, 1.0, 4.0, 5.0, 5.0, 5.0], [2.0, 5.0, 5.0, 4.0, 4.0, 5.0, 2.0, 5.0, 5.0, 4.0], [3.0, 5.0, 4.0, 5.0, 2.0, 4.0, 4.0, 4.0, 3.0, 5.0], [3.0, 3.0, 5.0, 5.0, 4.0, 4.0, 5.0, 3.0, 5.0, 4.0], [5.0, 3.0, 5.0, 5.0, 5.0, 5.0, 5.0, 5.0, 5.0, 1.0], [5.0, 5.0, 4.0, 5.0, 4.0, 1.0, 5.0, 4.0, 5.0, 5.0], [4.0, 5.0, 4.0, 3.0, 5.0, 5.0, 4.0, 3.0, 5.0, 5.0], [5.0, 3.0, 5.0, 4.0, 3.0, 3.0, 3.0, 5.0, 5.0, 5.0], [3.0, 3.0, 3.0, 3.0, 5.0, 3.0, 5.0, 5.0, 5.0, 3.0], [3.0, 5.0, 4.0, 1.0, 2.0, 3.0, 3.0, 5.0, 4.0, 5.0], [4.0, 5.0, 5.0, 3.0, 3.0, 5.0, 2.0, 5.0, 5.0, 5.0], [5.0, 5.0, 5.0, 4.0, 4.0, 4.0, 5.0, 4.0, 4.0, 3.0], [4.0, 4.0, 4.0, 3.0, 4.0, 5.0, 5.0, 3.0, 4.0, 5.0], [5.0, 3.0, 5.0, 5.0, 5.0, 5.0, 1.0, 3.0, 3.0, 5.0], [5.0, 5.0, 3.0, 5.0, 5.0, 5.0, 5.0, 4.0, 5.0, 4.0], [5.0, 5.0, 5.0, 2.0, 2.0, 5.0, 3.0, 5.0, 5.0, 3.0], [4.0, 5.0, 4.0, 3.0, 5.0, 5.0, 5.0, 5.0, 5.0, 1.0], [3.0, 4.0, 5.0, 4.0, 5.0, 3.0, 5.0, 5.0, 5.0, 5.0], [2.0, 5.0, 5.0, 5.0, 5.0, 3.0, 5.0, 1.0, 5.0, 5.0], [4.0, 5.0, 5.0, 4.0, 4.0, 5.0, 5.0, 4.0, 4.0, 5.0], [5.0, 5.0, 5.0, 4.0, 5.0, 5.0, 5.0, 4.0, 5.0, 3.0], [5.0, 5.0, 5.0, 3.0, 5.0, 4.0, 3.0, 5.0, 5.0, 3.0], [3.0, 5.0, 4.0, 5.0, 4.0, 4.0, 5.0, 5.0, 4.0, 1.0], [4.0, 4.0, 3.0, 4.0, 5.0, 3.0, 3.0, 5.0, 5.0, 4.0], [5.0, 5.0, 4.0, 4.0, 5.0, 5.0, 3.0, 5.0, 5.0, 4.0], [4.0, 3.0, 4.0, 3.0, 4.0, 5.0, 5.0, 5.0, 4.0, 4.0], [5.0, 4.0, 5.0, 5.0, 5.0, 4.0, 4.0, 3.0, 5.0, 5.0], [5.0, 5.0, 4.0, 5.0, 5.0, 5.0, 1.0, 5.0, 4.0, 4.0], [5.0, 1.0, 4.0, 4.0, 3.0, 5.0, 4.0, 5.0, 5.0, 5.0], [5.0, 3.0, 5.0, 4.0, 5.0, 4.0, 5.0, 5.0, 5.0, 5.0], [3.0, 5.0, 5.0, 2.0, 5.0, 4.0, 3.0, 4.0, 4.0, 5.0], [5.0, 5.0, 5.0, 4.0, 1.0, 4.0, 1.0, 5.0, 5.0, 4.0], [4.0, 5.0, 5.0, 5.0, 4.0, 4.0, 4.0, 3.0, 5.0, 5.0], [2.0, 5.0, 5.0, 4.0, 4.0, 3.0, 5.0, 5.0, 3.0, 2.0], [5.0, 5.0, 5.0, 5.0, 2.0, 5.0, 5.0, 2.0, 5.0, 4.0], [2.0, 3.0, 5.0, 5.0, 3.0, 5.0, 5.0, 4.0, 3.0, 5.0], [5.0, 3.0, 5.0, 5.0, 4.0, 5.0, 2.0, 4.0, 5.0, 1.0], [4.0, 4.0, 3.0, 5.0, 4.0, 3.0, 4.0, 3.0, 3.0, 5.0], [5.0, 5.0, 5.0, 5.0, 4.0, 4.0, 1.0, 3.0, 5.0, 4.0], [5.0, 1.0, 5.0, 5.0, 5.0, 5.0, 4.0, 5.0, 5.0, 5.0], [3.0, 5.0, 4.0, 4.0, 5.0, 4.0, 4.0, 5.0, 3.0, 5.0], [5.0, 5.0, 5.0, 4.0, 5.0, 5.0, 5.0, 4.0, 1.0, 2.0], [5.0, 5.0, 5.0, 4.0, 3.0, 5.0, 4.0, 2.0, 4.0, 5.0], [5.0, 4.0, 4.0, 5.0, 5.0, 1.0, 3.0, 4.0, 3.0, 4.0], [5.0, 5.0, 5.0, 4.0, 5.0, 5.0, 3.0, 5.0, 5.0, 3.0], [4.0, 4.0, 3.0, 5.0, 3.0, 4.0, 5.0, 4.0, 3.0, 4.0], [4.0, 5.0, 5.0, 3.0, 5.0, 2.0, 5.0, 5.0, 4.0, 5.0], [2.0, 2.0, 5.0, 3.0, 3.0, 2.0, 5.0, 5.0, 5.0, 5.0], [4.0, 5.0, 3.0, 5.0, 5.0, 4.0, 5.0, 5.0, 5.0, 5.0], [3.0, 5.0, 4.0, 5.0, 5.0, 5.0, 3.0, 4.0, 1.0, 4.0], [5.0, 4.0, 5.0, 4.0, 2.0, 5.0, 4.0, 4.0, 5.0, 5.0], [2.0, 3.0, 4.0, 2.0, 4.0, 5.0, 5.0, 4.0, 4.0, 5.0], [5.0, 5.0, 5.0, 2.0, 5.0, 4.0, 5.0, 5.0, 4.0, 4.0], [4.0, 4.0, 4.0, 5.0, 4.0, 4.0, 1.0, 5.0, 4.0, 4.0], [5.0, 5.0, 5.0, 4.0, 5.0, 4.0, 5.0, 5.0, 2.0, 4.0], [4.0, 5.0, 4.0, 4.0, 2.0, 5.0, 5.0, 5.0, 4.0, 5.0], [5.0, 5.0, 4.0, 3.0, 4.0, 1.0, 4.0, 5.0, 3.0, 3.0], [5.0, 4.0, 3.0, 5.0, 4.0, 1.0, 1.0, 4.0, 1.0, 1.0], [3.0, 3.0, 4.0, 5.0, 2.0, 5.0, 4.0, 2.0, 5.0, 5.0], [4.0, 5.0, 5.0, 5.0, 3.0, 5.0, 4.0, 5.0, 5.0, 3.0], [4.0, 3.0, 5.0, 5.0, 3.0, 4.0, 3.0, 5.0, 5.0, 3.0], [3.0, 4.0, 4.0, 4.0, 3.0, 1.0, 5.0, 5.0, 4.0, 2.0], [2.0, 5.0, 3.0, 5.0, 3.0, 5.0, 5.0, 3.0, 3.0, 5.0], [3.0, 3.0, 2.0, 5.0, 5.0, 4.0, 5.0, 5.0, 3.0, 4.0], [3.0, 5.0, 5.0, 4.0, 5.0, 4.0, 4.0, 5.0, 5.0, 5.0], [4.0, 3.0, 3.0, 5.0, 2.0, 5.0, 5.0, 5.0, 5.0, 5.0], [5.0, 4.0, 2.0, 5.0, 4.0, 4.0, 5.0, 5.0, 5.0, 2.0], [3.0, 4.0, 4.0, 5.0, 1.0, 5.0, 5.0, 3.0, 3.0, 5.0], [4.0, 4.0, 4.0, 5.0, 5.0, 5.0, 4.0, 4.0, 3.0, 4.0], [3.0, 1.0, 3.0, 5.0, 5.0, 5.0, 4.0, 4.0, 4.0, 3.0], [2.0, 3.0, 5.0, 4.0, 2.0, 4.0, 5.0, 5.0, 3.0, 5.0], [3.0, 5.0, 5.0, 5.0, 4.0, 2.0, 5.0, 3.0, 4.0, 1.0], [1.0, 3.0, 4.0, 1.0, 3.0, 4.0, 4.0, 5.0, 5.0, 4.0], [2.0, 4.0, 5.0, 4.0, 3.0, 3.0, 5.0, 3.0, 3.0, 5.0], [5.0, 4.0, 5.0, 5.0, 5.0, 5.0, 5.0, 4.0, 2.0, 3.0], [4.0, 2.0, 4.0, 4.0, 4.0, 1.0, 5.0, 2.0, 5.0, 4.0], [1.0, 1.0, 4.0, 2.0, 4.0, 4.0, 4.0, 4.0, 3.0, 3.0], [3.0, 3.0, 5.0, 5.0, 4.0, 4.0, 3.0, 5.0, 4.0, 1.0], [5.0, 4.0, 4.0, 5.0, 3.0, 5.0, 3.0, 3.0, 5.0, 5.0], [5.0, 4.0, 4.0, 4.0, 4.0, 5.0, 4.0, 5.0, 4.0, 4.0], [4.0, 3.0, 4.0, 3.0, 3.0, 5.0, 5.0, 3.0, 2.0, 1.0], [1.0, 5.0, 1.0, 4.0, 5.0, 4.0, 5.0, 3.0, 5.0, 5.0], [4.0, 3.0, 5.0, 3.0, 3.0, 5.0, 5.0, 5.0, 4.0, 5.0], [5.0, 3.0, 3.0, 5.0, 5.0, 5.0, 5.0, 3.0, 5.0, 4.0], [3.0, 5.0, 5.0, 5.0, 1.0, 3.0, 1.0, 5.0, 3.0, 5.0], [4.0, 1.0, 5.0, 5.0, 1.0, 4.0, 4.0, 5.0, 2.0, 5.0], [4.0, 1.0, 5.0, 5.0, 3.0, 4.0, 4.0, 2.0, 3.0, 3.0], [4.0, 4.0, 3.0, 5.0, 1.0, 3.0, 3.0, 5.0, 4.0, 1.0], [5.0, 5.0, 4.0, 5.0, 4.0, 5.0, 3.0, 4.0, 4.0, 3.0], [4.0, 5.0, 3.0, 4.0, 5.0, 5.0, 4.0, 4.0, 3.0, 1.0], [5.0, 5.0, 5.0, 4.0, 3.0, 4.0, 3.0, 3.0, 5.0, 4.0], [1.0, 3.0, 4.0, 4.0, 4.0, 2.0, 5.0, 5.0, 4.0, 1.0], [4.0, 4.0, 5.0, 5.0, 4.0, 4.0, 4.0, 5.0, 4.0, 5.0], [5.0, 4.0, 4.0, 5.0, 5.0, 5.0, 4.0, 5.0, 5.0, 5.0], [5.0, 5.0, 4.0, 4.0, 4.0, 4.0, 4.0, 5.0, 3.0, 3.0], [5.0, 4.0, 4.0, 5.0, 4.0, 4.0, 1.0, 4.0, 4.0, 5.0], [5.0, 5.0, 5.0, 5.0, 5.0, 2.0, 5.0, 5.0, 5.0, 3.0], [3.0, 3.0, 3.0, 5.0, 4.0, 4.0, 3.0, 3.0, 5.0, 5.0], [5.0, 4.0, 3.0, 5.0, 5.0, 4.0, 5.0, 5.0, 2.0, 3.0], [3.0, 3.0, 4.0, 2.0, 5.0, 5.0, 4.0, 2.0, 3.0, 5.0], [4.0, 5.0, 5.0, 3.0, 5.0, 4.0, 4.0, 2.0, 5.0, 5.0], [4.0, 5.0, 4.0, 5.0, 4.0, 5.0, 3.0, 5.0, 1.0, 5.0], [5.0, 5.0, 2.0, 3.0, 3.0, 4.0, 5.0, 3.0, 5.0, 5.0], [4.0, 3.0, 5.0, 5.0, 4.0, 5.0, 3.0, 4.0, 4.0, 3.0], [4.0, 4.0, 5.0, 4.0, 5.0, 5.0, 4.0, 5.0, 5.0, 4.0], [4.0, 3.0, 4.0, 3.0, 4.0, 5.0, 4.0, 5.0, 4.0, 5.0], [3.0, 5.0, 5.0, 2.0, 3.0, 5.0, 5.0, 5.0, 5.0, 5.0], [5.0, 5.0, 5.0, 4.0, 4.0, 3.0, 5.0, 4.0, 4.0, 5.0], [4.0, 5.0, 4.0, 4.0, 4.0, 5.0, 4.0, 4.0, 5.0, 5.0], [4.0, 3.0, 5.0, 3.0, 5.0, 3.0, 5.0, 5.0, 4.0, 4.0], [4.0, 4.0, 2.0, 4.0, 5.0, 5.0, 3.0, 4.0, 5.0, 3.0], [3.0, 4.0, 5.0, 4.0, 5.0, 5.0, 5.0, 5.0, 3.0, 4.0], [5.0, 5.0, 3.0, 5.0, 5.0, 4.0, 5.0, 5.0, 5.0, 4.0], [5.0, 5.0, 3.0, 3.0, 3.0, 4.0, 3.0, 3.0, 5.0, 5.0], [4.0, 3.0, 5.0, 5.0, 4.0, 3.0, 5.0, 4.0, 4.0, 5.0], [5.0, 5.0, 5.0, 4.0, 1.0, 3.0, 3.0, 4.0, 4.0, 5.0], [4.0, 5.0, 4.0, 5.0, 5.0, 3.0, 4.0, 4.0, 5.0, 4.0], [1.0, 4.0, 4.0, 4.0, 5.0, 5.0, 5.0, 5.0, 4.0, 3.0], [2.0, 3.0, 5.0, 2.0, 4.0, 5.0, 3.0, 5.0, 4.0, 5.0], [5.0, 3.0, 3.0, 2.0, 3.0, 5.0, 4.0, 5.0, 4.0, 3.0], [4.0, 3.0, 3.0, 5.0, 4.0, 4.0, 4.0, 3.0, 3.0, 5.0], [4.0, 4.0, 4.0, 2.0, 5.0, 4.0, 4.0, 3.0, 5.0, 3.0], [5.0, 4.0, 1.0, 4.0, 5.0, 3.0, 4.0, 2.0, 4.0, 5.0], [5.0, 5.0, 4.0, 4.0, 5.0, 3.0, 4.0, 4.0, 4.0, 4.0], [5.0, 5.0, 5.0, 5.0, 5.0, 3.0, 3.0, 4.0, 5.0, 3.0], [5.0, 4.0, 5.0, 5.0, 4.0, 4.0, 3.0, 4.0, 3.0, 4.0], [2.0, 5.0, 3.0, 5.0, 5.0, 4.0, 5.0, 3.0, 3.0, 5.0], [3.0, 4.0, 4.0, 5.0, 2.0, 5.0, 3.0, 3.0, 3.0, 4.0], [3.0, 3.0, 5.0, 5.0, 5.0, 5.0, 3.0, 3.0, 4.0, 5.0], [3.0, 3.0, 5.0, 5.0, 4.0, 2.0, 5.0, 5.0, 5.0, 4.0], [5.0, 4.0, 4.0, 3.0, 3.0, 3.0, 5.0, 5.0, 5.0, 4.0], [3.0, 3.0, 5.0, 5.0, 4.0, 3.0, 5.0, 2.0, 3.0, 2.0], [4.0, 5.0, 4.0, 5.0, 3.0, 4.0, 4.0, 3.0, 3.0, 5.0], [5.0, 2.0, 3.0, 3.0, 3.0, 4.0, 4.0, 5.0, 3.0, 5.0], [2.0, 2.0, 3.0, 3.0, 3.0, 2.0, 4.0, 4.0, 4.0, 4.0], [3.0, 5.0, 5.0, 1.0, 4.0, 5.0, 3.0, 1.0, 4.0, 4.0], [4.0, 4.0, 4.0, 4.0, 4.0, 5.0, 5.0, 4.0, 3.0, 3.0], [3.0, 3.0, 2.0, 3.0, 3.0, 4.0, 4.0, 5.0, 2.0, 4.0], [4.0, 5.0, 3.0, 4.0, 3.0, 5.0, 1.0, 4.0, 5.0, 4.0], [5.0, 5.0, 3.0, 3.0, 4.0, 5.0, 5.0, 5.0, 3.0, 5.0], [3.0, 5.0, 5.0, 5.0, 3.0, 5.0, 4.0, 1.0, 3.0, 5.0], [5.0, 4.0, 5.0, 2.0, 4.0, 4.0, 5.0, 5.0, 4.0, 4.0], [4.0, 4.0, 1.0, 4.0, 4.0, 3.0, 5.0, 5.0, 5.0, 2.0], [4.0, 5.0, 1.0, 5.0, 5.0, 3.0, 4.0, 2.0, 4.0, 5.0], [4.0, 5.0, 5.0, 4.0, 5.0, 4.0, 2.0, 4.0, 3.0, 3.0], [5.0, 2.0, 1.0, 5.0, 3.0, 5.0, 4.0, 4.0, 4.0, 5.0], [2.0, 3.0, 5.0, 3.0, 5.0, 5.0, 5.0, 4.0, 4.0, 5.0], [5.0, 4.0, 3.0, 5.0, 5.0, 3.0, 3.0, 4.0, 5.0, 2.0], [4.0, 3.0, 4.0, 5.0, 4.0, 3.0, 5.0, 5.0, 1.0, 4.0], [5.0, 5.0, 5.0, 4.0, 4.0, 4.0, 3.0, 4.0, 5.0, 5.0], [5.0, 4.0, 4.0, 2.0, 4.0, 5.0, 5.0, 4.0, 5.0, 4.0], [5.0, 5.0, 5.0, 5.0, 3.0, 3.0, 5.0, 4.0, 4.0, 3.0], [4.0, 4.0, 5.0, 5.0, 4.0, 4.0, 3.0, 4.0, 3.0, 4.0], [3.0, 4.0, 1.0, 5.0, 5.0, 5.0, 4.0, 1.0, 5.0, 3.0], [5.0, 5.0, 5.0, 5.0, 4.0, 4.0, 5.0, 4.0, 3.0, 3.0], [3.0, 5.0, 4.0, 4.0, 4.0, 4.0, 4.0, 5.0, 5.0, 3.0], [5.0, 4.0, 4.0, 2.0, 4.0, 1.0, 4.0, 1.0, 5.0, 4.0], [4.0, 3.0, 4.0, 4.0, 5.0, 2.0, 4.0, 4.0, 4.0, 5.0], [4.0, 4.0, 3.0, 5.0, 4.0, 2.0, 5.0, 5.0, 3.0, 5.0], [5.0, 3.0, 3.0, 3.0, 3.0, 3.0, 5.0, 4.0, 4.0, 4.0], [1.0, 3.0, 4.0, 4.0, 3.0, 5.0, 3.0, 3.0, 3.0, 5.0], [3.0, 5.0, 5.0, 5.0, 3.0, 2.0, 5.0, 4.0, 4.0, 4.0], [5.0, 5.0, 5.0, 4.0, 4.0, 4.0, 1.0, 3.0, 5.0, 1.0], [4.0, 4.0, 4.0, 4.0, 4.0, 5.0, 4.0, 4.0, 4.0, 3.0], [3.0, 3.0, 3.0, 5.0, 3.0, 3.0, 5.0, 4.0, 4.0, 4.0], [3.0, 2.0, 3.0, 4.0, 4.0, 1.0, 4.0, 5.0, 3.0, 4.0], [3.0, 4.0, 4.0, 4.0, 4.0, 4.0, 3.0, 5.0, 4.0, 4.0], [5.0, 4.0, 4.0, 4.0, 5.0, 4.0, 2.0, 5.0, 3.0, 3.0], [4.0, 4.0, 4.0, 3.0, 3.0, 4.0, 3.0, 5.0, 4.0, 5.0], [4.0, 3.0, 3.0, 4.0, 4.0, 4.0, 2.0, 3.0, 5.0, 3.0], [3.0, 3.0, 3.0, 4.0, 3.0, 3.0, 2.0, 1.0, 1.0, 3.0], [3.0, 3.0, 4.0, 3.0, 3.0, 5.0, 3.0, 5.0, 3.0, 5.0], [4.0, 4.0, 1.0, 2.0, 1.0, 2.0, 1.0, 5.0, 2.0, 3.0], [3.0, 3.0, 4.0, 3.0, 3.0, 5.0, 1.0, 1.0, 3.0, 3.0], [2.0, 3.0, 3.0, 3.0, 4.0, 4.0, 4.0, 3.0, 3.0, 3.0], [5.0, 5.0, 5.0, 4.0, 4.0, 4.0, 5.0, 4.0, 3.0, 5.0], [4.0, 2.0, 3.0, 5.0, 2.0, 5.0, 4.0, 4.0, 2.0, 3.0], [4.0, 3.0, 3.0, 4.0, 1.0, 2.0, 2.0, 4.0, 4.0, 4.0], [4.0, 2.0, 4.0, 3.0, 4.0, 4.0, 3.0, 4.0, 3.0, 4.0], [4.0, 4.0, 3.0, 3.0, 4.0, 3.0, 4.0, 4.0, 1.0, 5.0], [5.0, 5.0, 4.0, 4.0, 4.0, 5.0, 5.0, 3.0, 1.0, 3.0], [3.0, 4.0, 5.0, 5.0, 1.0, 4.0, 3.0, 1.0, 4.0, 1.0], [3.0, 2.0, 2.0, 3.0, 4.0, 3.0, 4.0, 3.0, 2.0, 1.0], [2.0, 3.0, 5.0, 5.0, 2.0, 4.0, 1.0, 5.0, 3.0, 4.0], [4.0, 4.0, 3.0, 4.0, 4.0, 5.0, 5.0, 4.0, 3.0, 4.0], [3.0, 4.0, 4.0, 3.0, 2.0, 4.0, 4.0, 3.0, 2.0, 4.0], [4.0, 4.0, 3.0, 5.0, 5.0, 4.0, 3.0, 4.0, 4.0, 3.0], [3.0, 4.0, 4.0, 3.0, 5.0, 5.0, 5.0, 5.0, 5.0, 2.0], [3.0, 4.0, 4.0, 4.0, 3.0, 1.0, 4.0, 2.0, 2.0, 4.0], [3.0, 2.0, 4.0, 4.0, 4.0, 5.0, 4.0, 3.0, 3.0, 5.0], [5.0, 2.0, 4.0, 5.0, 5.0, 4.0, 5.0, 4.0, 4.0, 5.0], [5.0, 5.0, 5.0, 5.0, 5.0, 5.0, 3.0, 3.0, 4.0, 4.0], [3.0, 3.0, 2.0, 3.0, 3.0, 4.0, 4.0, 2.0, 3.0, 4.0], [5.0, 3.0, 5.0, 2.0, 5.0, 4.0, 5.0, 4.0, 1.0, 3.0], [3.0, 4.0, 3.0, 3.0, 1.0, 3.0, 2.0, 3.0, 5.0, 5.0], [2.0, 2.0, 4.0, 5.0, 4.0, 1.0, 4.0, 2.0, 5.0, 2.0], [5.0, 5.0, 5.0, 4.0, 4.0, 1.0, 3.0, 5.0, 4.0, 5.0], [5.0, 4.0, 5.0, 5.0, 4.0, 4.0, 3.0, 4.0, 5.0, 3.0], [3.0, 5.0, 5.0, 5.0, 5.0, 3.0, 5.0, 5.0, 1.0, 2.0], [1.0, 3.0, 5.0, 5.0, 2.0, 5.0, 5.0, 4.0, 4.0, 5.0], [3.0, 5.0, 5.0, 5.0, 5.0, 5.0, 1.0, 3.0, 3.0, 5.0], [5.0, 2.0, 5.0, 2.0, 5.0, 4.0, 5.0, 5.0, 5.0, 2.0], [4.0, 4.0, 4.0, 2.0, 3.0, 5.0, 3.0, 4.0, 4.0, 2.0], [5.0, 5.0, 3.0, 5.0, 5.0, 3.0, 5.0, 3.0, 4.0, 2.0], [2.0, 2.0, 4.0, 5.0, 5.0, 3.0, 5.0, 4.0, 3.0, 5.0], [5.0, 3.0, 4.0, 5.0, 5.0, 5.0, 5.0, 5.0, 5.0, 1.0], [1.0, 4.0, 1.0, 3.0, 5.0, 5.0, 3.0, 5.0, 3.0, 3.0], [2.0, 5.0, 4.0, 4.0, 3.0, 5.0, 2.0, 5.0, 5.0, 3.0], [5.0, 4.0, 4.0, 2.0, 3.0, 5.0, 2.0, 3.0, 4.0, 4.0], [5.0, 5.0, 2.0, 1.0, 5.0, 5.0, 3.0, 4.0, 4.0, 3.0], [5.0, 4.0, 4.0, 4.0, 4.0, 4.0, 1.0, 2.0, 4.0, 3.0], [4.0, 5.0, 2.0, 5.0, 5.0, 5.0, 5.0, 5.0, 5.0, 4.0], [4.0, 1.0, 5.0, 5.0, 5.0, 4.0, 4.0, 2.0, 4.0, 5.0], [5.0, 5.0, 5.0, 5.0, 5.0, 1.0, 5.0, 5.0, 4.0, 5.0], [5.0, 3.0, 4.0, 5.0, 5.0, 5.0, 3.0, 5.0, 3.0, 5.0], [1.0, 4.0, 1.0, 3.0, 5.0, 3.0, 4.0, 4.0, 3.0, 4.0], [5.0, 2.0, 5.0, 5.0, 5.0, 3.0, 5.0, 5.0, 5.0, 4.0], [5.0, 5.0, 4.0, 5.0, 4.0, 5.0, 4.0, 5.0, 4.0, 4.0], [5.0, 5.0, 5.0, 4.0, 3.0, 5.0, 4.0, 4.0, 5.0, 5.0], [5.0, 3.0, 5.0, 2.0, 3.0, 5.0, 2.0, 3.0, 5.0, 5.0], [4.0, 4.0, 2.0, 3.0, 4.0, 5.0, 5.0, 4.0, 4.0, 4.0], [4.0, 2.0, 4.0, 3.0, 5.0, 3.0, 3.0, 5.0, 5.0, 4.0], [4.0, 5.0, 3.0, 5.0, 5.0, 5.0, 1.0, 5.0, 5.0, 5.0], [5.0, 5.0, 4.0, 1.0, 5.0, 5.0, 5.0, 5.0, 5.0, 5.0], [4.0, 5.0, 5.0, 5.0, 4.0, 5.0, 5.0, 5.0, 3.0, 4.0], [5.0, 3.0, 5.0, 4.0, 2.0, 2.0, 3.0, 5.0, 5.0, 5.0], [3.0, 1.0, 3.0, 3.0, 5.0, 1.0, 5.0, 2.0, 3.0, 4.0], [5.0, 5.0, 5.0, 5.0, 5.0, 5.0, 5.0, 5.0, 5.0, 5.0], [5.0, 5.0, 5.0, 5.0, 3.0, 1.0, 2.0, 5.0, 5.0, 5.0], [5.0, 4.0, 5.0, 5.0, 5.0, 5.0, 3.0, 5.0, 5.0, 5.0], [4.0, 3.0, 4.0, 4.0, 5.0, 5.0, 4.0, 4.0, 3.0, 4.0], [5.0, 3.0, 5.0, 5.0, 3.0, 5.0, 5.0, 5.0, 5.0, 5.0], [3.0, 4.0, 4.0, 4.0, 4.0, 1.0, 4.0, 4.0, 4.0, 3.0], [3.0, 3.0, 4.0, 5.0, 5.0, 4.0, 4.0, 5.0, 5.0, 4.0], [4.0, 3.0, 1.0, 5.0, 5.0, 4.0, 4.0, 2.0, 1.0, 4.0], [5.0, 5.0, 5.0, 5.0, 5.0, 5.0, 5.0, 5.0, 1.0, 3.0], [5.0, 3.0, 4.0, 5.0, 5.0, 5.0, 5.0, 5.0, 5.0, 5.0], [5.0, 4.0, 3.0, 4.0, 2.0, 1.0, 4.0, 4.0, 4.0, 5.0], [5.0, 1.0, 3.0, 5.0, 2.0, 1.0, 4.0, 5.0, 5.0, 1.0], [5.0, 3.0, 5.0, 4.0, 4.0, 5.0, 5.0, 4.0, 5.0, 3.0], [5.0, 5.0, 5.0, 3.0, 5.0, 5.0, 5.0, 1.0, 4.0, 4.0], [4.0, 5.0, 4.0, 3.0, 3.0, 3.0, 4.0, 4.0, 5.0, 1.0], [3.0, 4.0, 5.0, 4.0, 4.0, 5.0, 4.0, 2.0, 5.0, 5.0], [4.0, 4.0, 3.0, 4.0, 4.0, 3.0, 5.0, 4.0, 2.0, 3.0], [2.0, 4.0, 4.0, 1.0, 3.0, 4.0, 1.0, 1.0, 3.0, 1.0], [3.0, 4.0, 3.0, 4.0, 3.0, 4.0, 1.0, 4.0, 2.0, 4.0], [4.0, 3.0, 4.0, 4.0, 4.0, 3.0, 4.0, 4.0, 3.0, 3.0], [4.0, 4.0, 3.0, 4.0, 3.0, 4.0, 4.0, 2.0, 3.0, 4.0], [4.0, 1.0, 4.0, 5.0, 3.0, 4.0, 5.0, 1.0, 5.0, 5.0], [2.0, 5.0, 5.0, 5.0, 4.0, 3.0, 4.0, 5.0, 4.0, 3.0], [2.0, 4.0, 2.0, 4.0, 4.0, 4.0, 4.0, 4.0, 4.0, 3.0], [3.0, 3.0, 3.0, 3.0, 4.0, 3.0, 1.0, 4.0, 4.0, 3.0], [4.0, 1.0, 5.0, 4.0, 2.0, 5.0, 2.0, 3.0, 3.0, 5.0], [4.0, 3.0, 4.0, 4.0, 4.0, 3.0, 4.0, 2.0, 4.0, 4.0], [1.0, 2.0, 4.0, 2.0, 4.0, 5.0, 5.0, 5.0, 2.0, 4.0], [4.0, 5.0, 4.0, 1.0, 3.0, 4.0, 3.0, 4.0, 3.0, 5.0], [4.0, 4.0, 2.0, 4.0, 5.0, 3.0, 4.0, 2.0, 3.0, 3.0], [3.0, 4.0, 2.0, 4.0, 2.0, 5.0, 3.0, 4.0, 5.0, 4.0], [3.0, 3.0, 3.0, 4.0, 4.0, 3.0, 4.0, 4.0, 3.0, 3.0], [4.0, 4.0, 3.0, 1.0, 3.0, 4.0, 3.0, 4.0, 3.0, 3.0], [3.0, 3.0, 1.0, 2.0, 3.0, 3.0, 4.0, 4.0, 2.0, 2.0], [4.0, 4.0, 4.0, 2.0, 3.0, 3.0, 2.0, 4.0, 4.0, 5.0], [5.0, 5.0, 4.0, 3.0, 3.0, 5.0, 2.0, 3.0, 5.0, 3.0], [3.0, 3.0, 4.0, 3.0, 4.0, 3.0, 4.0, 3.0, 4.0, 3.0], [4.0, 3.0, 4.0, 4.0, 2.0, 2.0, 2.0, 4.0, 3.0, 3.0], [2.0, 4.0, 3.0, 3.0, 3.0, 4.0, 1.0, 4.0, 3.0, 3.0], [3.0, 3.0, 3.0, 4.0, 5.0, 3.0, 5.0, 4.0, 4.0, 3.0], [2.0, 2.0, 4.0, 5.0, 5.0, 4.0, 4.0, 4.0, 5.0, 3.0], [3.0, 4.0, 4.0, 3.0, 3.0, 3.0, 4.0, 4.0, 2.0, 4.0], [4.0, 4.0, 4.0, 1.0, 3.0, 3.0, 4.0, 2.0, 4.0, 3.0], [3.0, 4.0, 3.0, 4.0, 3.0, 4.0, 3.0, 3.0, 4.0, 4.0], [3.0, 3.0, 4.0, 2.0, 4.0, 5.0, 3.0, 5.0, 4.0, 5.0], [4.0, 4.0, 3.0, 4.0, 3.0, 1.0, 4.0, 3.0, 4.0, 4.0], [4.0, 5.0, 4.0, 4.0, 3.0, 3.0, 4.0, 4.0, 5.0, 3.0], [3.0, 4.0, 1.0, 2.0, 5.0, 5.0, 2.0, 1.0, 3.0, 4.0], [3.0, 4.0, 2.0, 5.0, 4.0, 4.0, 4.0, 2.0, 4.0, 3.0], [4.0, 4.0, 4.0, 3.0, 4.0, 4.0, 3.0, 4.0, 3.0, 4.0], [5.0, 4.0, 5.0, 4.0, 3.0, 5.0, 4.0, 5.0, 4.0, 4.0], [4.0, 2.0, 5.0, 5.0, 5.0, 1.0, 5.0, 3.0, 5.0, 4.0], [3.0, 4.0, 3.0, 4.0, 4.0, 4.0, 3.0, 3.0, 3.0, 3.0], [3.0, 4.0, 4.0, 4.0, 4.0, 3.0, 4.0, 4.0, 4.0, 3.0], [3.0, 4.0, 3.0, 2.0, 4.0, 4.0, 4.0, 4.0, 3.0, 2.0], [4.0, 5.0, 3.0, 1.0, 3.0, 1.0, 4.0, 2.0, 4.0, 3.0], [4.0, 4.0, 3.0, 4.0, 4.0, 4.0, 3.0, 3.0, 3.0, 2.0], [4.0, 3.0, 3.0, 4.0, 4.0, 3.0, 4.0, 4.0, 4.0, 3.0], [3.0, 4.0, 4.0, 3.0, 3.0, 3.0, 4.0, 3.0, 3.0, 4.0], [4.0, 4.0, 4.0, 3.0, 4.0, 1.0, 3.0, 3.0, 4.0, 3.0], [4.0, 3.0, 4.0, 3.0, 2.0, 3.0, 4.0, 4.0, 3.0, 4.0], [4.0, 4.0, 4.0, 4.0, 3.0, 2.0, 3.0, 3.0, 4.0, 4.0], [4.0, 3.0, 4.0, 4.0, 3.0, 4.0, 4.0, 4.0, 3.0, 4.0], [4.0, 2.0, 3.0, 3.0, 4.0, 3.0, 4.0, 3.0, 2.0, 4.0], [4.0, 3.0, 4.0, 4.0, 4.0, 2.0, 3.0, 4.0, 4.0, 2.0], [3.0, 5.0, 5.0, 3.0, 1.0, 1.0, 4.0, 5.0, 4.0, 5.0], [3.0, 4.0, 4.0, 4.0, 3.0, 1.0, 3.0, 3.0, 4.0, 4.0], [4.0, 1.0, 3.0, 1.0, 4.0, 5.0, 2.0, 3.0, 3.0, 5.0], [3.0, 1.0, 2.0, 4.0, 2.0, 4.0, 4.0, 4.0, 4.0, 1.0], [3.0, 4.0, 3.0, 4.0, 3.0, 4.0, 4.0, 3.0, 4.0, 4.0], [2.0, 4.0, 4.0, 4.0, 2.0, 4.0, 3.0, 4.0, 4.0, 3.0], [3.0, 4.0, 4.0, 2.0, 4.0, 4.0, 3.0, 3.0, 3.0, 3.0], [4.0, 4.0, 2.0, 2.0, 3.0, 3.0, 4.0, 3.0, 4.0, 3.0], [1.0, 4.0, 2.0, 5.0, 5.0, 1.0, 1.0, 3.0, 3.0, 3.0], [3.0, 3.0, 4.0, 3.0, 4.0, 3.0, 3.0, 4.0, 4.0, 4.0], [3.0, 2.0, 3.0, 4.0, 3.0, 4.0, 4.0, 3.0, 4.0, 4.0], [5.0, 4.0, 3.0, 3.0, 2.0, 5.0, 3.0, 4.0, 4.0, 4.0], [4.0, 3.0, 3.0, 3.0, 5.0, 5.0, 4.0, 5.0, 5.0, 5.0], [5.0, 3.0, 4.0, 4.0, 4.0, 4.0, 4.0, 5.0, 5.0, 5.0], [3.0, 5.0, 3.0, 3.0, 1.0, 3.0, 4.0, 1.0, 5.0, 4.0], [3.0, 4.0, 4.0, 4.0, 3.0, 3.0, 2.0, 2.0, 4.0, 3.0], [5.0, 1.0, 4.0, 4.0, 4.0, 4.0, 4.0, 4.0, 4.0, 3.0], [5.0, 2.0, 4.0, 4.0, 4.0, 4.0, 3.0, 5.0, 4.0, 3.0], [3.0, 2.0, 1.0, 3.0, 3.0, 3.0, 3.0, 4.0, 4.0, 5.0], [1.0, 1.0, 1.0, 1.0, 1.0, 1.0, 1.0]]\n",
            "[173, 224, 740, 1070, 1200]\n"
          ]
        },
        {
          "output_type": "display_data",
          "data": {
            "text/plain": [
              "<Figure size 432x288 with 1 Axes>"
            ],
            "image/png": "[encoded data removed]"
          },
          "metadata": {
            "needs_background": "light"
          }
        }
      ]
    },
    {
      "cell_type": "code",
      "source": [
        "filename = '/content/drive/MyDrive/Airline Data collection/allnippon_airlines.csv'\n",
        "csv.field_size_limit(100000000)\n",
        "with open(filename) as f:\n",
        "  reader = csv.reader(f)\n",
        "  header_row = next(reader)\n",
        "  stars= []\n",
        "  pros = []\n",
        "  cons = []\n",
        "  for row in reader:\n",
        "    stars.append(row[5])\n",
        "    pros.append(row[6])\n",
        "    cons.append(row[7])\n",
        "\n",
        "s = []\n",
        "for star in stars:\n",
        "  print(star)\n",
        "  s = star.split(',')\n",
        "new_list =[]\n",
        "flat_list = [x for xs in s for x in xs]\n",
        "# flat_list\n",
        "for i in flat_list:\n",
        "  try:\n",
        "    new_list.append(int(i))\n",
        "  except ValueError:\n",
        "        continue\n",
        "n = []\n",
        "for value in range(0,len(new_list)):\n",
        "\n",
        "    if new_list[value] != 0:\n",
        "        n.append(new_list[value])\n",
        "\n",
        "count = [0,0,0,0,0]\n",
        "for i in n:\n",
        "  # print(i)\n",
        "  for s in range(1,6):\n",
        "    # print(s)\n",
        "    if i == s:\n",
        "      count[s-1] += 1\n",
        "      \n",
        "swissinter_airlines_c = count\n",
        "print(count)\n",
        "\n",
        "x = np.array([\"1\", \"2\", \"3\", \"4\",\"5\"])\n",
        "y = np.asarray(count)\n",
        "\n",
        "line = plt.bar(x,y)\n",
        "plt.title(\"ANA All Nippon Airways\")\n",
        "plt.xlabel('Stars Rating')\n",
        "plt.ylabel(\"Frequency\")\n",
        "\n",
        "for i in range(len(y)):\n",
        "    plt.annotate(str(y[i]), xy=(x[i],y[i]), ha='center', va='bottom')\n",
        "\n",
        "plt.show()"
      ],
      "metadata": {
        "colab": {
          "base_uri": "https://localhost:8080/",
          "height": 350
        },
        "id": "hfSAHXccSm_m",
        "outputId": "9770823b-ac10-4378-c276-11d7d82af2a9"
      },
      "execution_count": null,
      "outputs": [
        {
          "output_type": "stream",
          "name": "stdout",
          "text": [
            "[[5.0, 2.0, 4.0, 2.0, 3.0, 1.0, 4.0, 4.0, 1.0, 5.0], [3.0, 2.0, 3.0, 3.0, 3.0, 5.0, 3.0, 5.0, 4.0, 4.0], [3.0, 1.0, 1.0, 2.0, 3.0, 3.0, 3.0, 3.0, 3.0, 1.0], [1.0, 2.0, 2.0, 5.0, 3.0, 2.0, 3.0, 4.0, 3.0, 1.0], [3.0, 2.0, 4.0, 1.0, 3.0, 1.0, 2.0, 4.0, 5.0, 4.0], [4.0, 2.0, 4.0, 4.0, 4.0, 4.0, 2.0, 3.0, 4.0, 3.0], [3.0, 4.0, 3.0, 4.0, 4.0, 3.0, 4.0, 3.0, 4.0, 5.0], [5.0, 3.0, 4.0, 4.0, 4.0, 4.0, 5.0, 3.0, 2.0, 4.0], [4.0, 4.0, 2.0, 4.0, 3.0, 1.0, 4.0, 3.0, 2.0, 4.0], [3.0, 1.0, 1.0, 2.0, 2.0, 2.0, 2.0, 3.0, 3.0, 3.0], [1.0, 1.0, 4.0, 4.0, 2.0, 3.0, 5.0, 3.0, 3.0]]\n",
            "[14, 19, 34, 32, 10]\n"
          ]
        },
        {
          "output_type": "display_data",
          "data": {
            "text/plain": [
              "<Figure size 432x288 with 1 Axes>"
            ],
            "image/png": "[encoded data removed]"
          },
          "metadata": {
            "needs_background": "light"
          }
        }
      ]
    },
    {
      "cell_type": "code",
      "source": [
        "filename = '/content/drive/MyDrive/Airline Data collection/airfrance_airlines.csv'\n",
        "csv.field_size_limit(100000000)\n",
        "with open(filename) as f:\n",
        "  reader = csv.reader(f)\n",
        "  header_row = next(reader)\n",
        "  stars= []\n",
        "  pros = []\n",
        "  cons = []\n",
        "  for row in reader:\n",
        "    stars.append(row[5])\n",
        "    pros.append(row[6])\n",
        "    cons.append(row[7])\n",
        "\n",
        "s = []\n",
        "for star in stars:\n",
        "  print(star)\n",
        "  s = star.split(',')\n",
        "new_list =[]\n",
        "flat_list = [x for xs in s for x in xs]\n",
        "# flat_list\n",
        "for i in flat_list:\n",
        "  try:\n",
        "    new_list.append(int(i))\n",
        "  except ValueError:\n",
        "        continue\n",
        "n = []\n",
        "for value in range(0,len(new_list)):\n",
        "\n",
        "    if new_list[value] != 0:\n",
        "        n.append(new_list[value])\n",
        "\n",
        "count = [0,0,0,0,0]\n",
        "for i in n:\n",
        "  # print(i)\n",
        "  for s in range(1,6):\n",
        "    # print(s)\n",
        "    if i == s:\n",
        "      count[s-1] += 1\n",
        "      \n",
        "swissinter_airlines_c = count\n",
        "print(count)\n",
        "\n",
        "x = np.array([\"1\", \"2\", \"3\", \"4\",\"5\"])\n",
        "y = np.asarray(count)\n",
        "\n",
        "line = plt.bar(x,y)\n",
        "plt.title(\"Air France\")\n",
        "plt.xlabel('Stars Rating')\n",
        "plt.ylabel(\"Frequency\")\n",
        "\n",
        "for i in range(len(y)):\n",
        "    plt.annotate(str(y[i]), xy=(x[i],y[i]), ha='center', va='bottom')\n",
        "\n",
        "plt.show()"
      ],
      "metadata": {
        "colab": {
          "base_uri": "https://localhost:8080/",
          "height": 350
        },
        "id": "14xQK2SDSsBH",
        "outputId": "179ba627-26e3-49f1-95b9-e0e3e402683e"
      },
      "execution_count": null,
      "outputs": [
        {
          "output_type": "stream",
          "name": "stdout",
          "text": [
            "[[5.0, 4.0, 3.0, 5.0, 5.0, 5.0, 5.0, 5.0, 3.0, 1.0], [5.0, 3.0, 1.0, 3.0, 3.0, 3.0, 4.0, 5.0, 3.0, 3.0], [4.0, 4.0, 2.0, 5.0, 2.0, 3.0, 1.0, 2.0, 2.0, 1.0], [4.0, 3.0, 4.0, 3.0, 4.0, 4.0, 4.0, 4.0, 5.0, 4.0], [4.0, 5.0, 5.0, 5.0, 5.0, 4.0, 4.0, 4.0, 5.0, 4.0], [1.0, 4.0, 3.0, 4.0, 2.0, 1.0, 2.0, 3.0, 3.0, 5.0], [3.0, 2.0, 3.0, 3.0, 3.0, 2.0, 3.0, 3.0, 3.0, 1.0], [1.0, 2.0, 5.0, 5.0, 4.0, 4.0, 3.0, 4.0, 5.0, 4.0], [3.0, 2.0, 4.0, 5.0, 4.0, 5.0, 1.0, 3.0, 5.0, 5.0], [3.0, 5.0, 3.0, 4.0, 3.0, 5.0, 1.0, 3.0, 5.0, 4.0], [4.0, 4.0, 4.0, 4.0, 5.0, 2.0, 5.0, 2.0, 4.0, 3.0], [5.0, 5.0, 4.0, 5.0, 2.0, 4.0, 3.0, 4.0, 4.0, 3.0], [3.0, 4.0, 5.0, 5.0, 5.0, 5.0, 4.0, 2.0, 5.0, 4.0], [4.0, 2.0, 4.0, 2.0, 2.0, 3.0, 4.0, 4.0, 4.0, 4.0], [3.0, 3.0, 4.0, 1.0, 3.0, 3.0, 5.0, 5.0, 1.0, 4.0], [3.0, 3.0, 2.0, 5.0, 3.0, 4.0, 4.0, 4.0, 4.0, 4.0], [5.0, 2.0, 5.0, 5.0, 4.0, 3.0, 4.0, 4.0, 5.0, 4.0], [5.0, 5.0, 5.0, 4.0, 4.0, 5.0, 5.0, 2.0, 5.0, 4.0], [3.0, 5.0, 5.0, 5.0, 4.0, 5.0, 4.0, 4.0, 3.0, 4.0], [5.0, 4.0, 4.0, 4.0, 3.0, 2.0, 3.0, 2.0, 2.0, 3.0], [3.0, 3.0, 2.0, 3.0, 3.0, 3.0, 3.0, 3.0]]\n",
            "[12, 24, 53, 65, 54]\n"
          ]
        },
        {
          "output_type": "display_data",
          "data": {
            "text/plain": [
              "<Figure size 432x288 with 1 Axes>"
            ],
            "image/png": "[encoded data removed]"
          },
          "metadata": {
            "needs_background": "light"
          }
        }
      ]
    }
  ]
}